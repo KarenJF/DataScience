{
 "cells": [
  {
   "cell_type": "markdown",
   "metadata": {},
   "source": [
    "## Part 3: Training Neural Networks\n",
    "\n",
    "In this notebook, we are going to learn how to train a very simple Neural Netowrks. We will go over the topics below: \n",
    "\n",
    "* [Background Knowledge Fresh up](#background)\n",
    "* [Backpropagation](#Backpropagation)\n",
    "* [Augograd](#autograd)\n",
    "* [Build the Network](#buildnetwork)\n",
    "* [Train the Network](#trainnetwork)\n",
    "* [Evaluate](#evaluate)"
   ]
  },
  {
   "cell_type": "markdown",
   "metadata": {},
   "source": [
    "<a id = 'background'></a>\n",
    "### Background Knowledge Fresh Up\n",
    "The network we built in the previous part isn't so smart, it doesn't know anything about our handwritten digits. Neural networks with non-linear activations work like universal function approximators. There is some function that maps your input to the output. For example, images of handwritten digits to class probabilities. The power of neural networks is that we can train them to approximate this function, and basically any function given enough data and compute time.\n",
    "\n",
    "At first the network is naive, it doesn't know the function mapping the inputs to the outputs. We train the network by showing it examples of real data, then adjusting the network parameters such that it approximates this function.\n",
    "\n",
    "To find these parameters, we need to know how poorly the network is predicting the real outputs. For this we calculate a **loss function** (also called the cost), a measure of our prediction error. For example, the mean squared loss is often used in regression and binary classification problems\n",
    "\n",
    "$$\n",
    "\\ell = \\frac{1}{2n}\\sum_i^n{\\left(y_i - \\hat{y}_i\\right)^2}\n",
    "$$\n",
    "\n",
    "where $n$ is the number of training examples, $y_i$ are the true labels, and $\\hat{y}_i$ are the predicted labels.\n",
    "\n",
    "By minimizing this loss with respect to the network parameters, we can find configurations where the loss is at a minimum and the network is able to predict the correct labels with high accuracy. We find this minimum using a process called **gradient descent**. The gradient is the slope of the loss function and points in the direction of fastest change. To get to the minimum in the least amount of time, we then want to follow the gradient (downwards). You can think of this like descending a mountain by following the steepest slope to the base."
   ]
  },
  {
   "cell_type": "markdown",
   "metadata": {},
   "source": [
    "<a id = 'Backpropagation'></a>\n",
    "## Backpropagation\n",
    "\n",
    "For single layer networks, gradient descent is simple to implement. However, it's more complicated for deeper, multilayer neural networks like the one we've built. Complicated enough that it took about 30 years before researchers figured out how to train multilayer networks, although it's straightforward once you learn about it. \n",
    "\n",
    "This is done through **backpropagation** which is really just an application of the chain rule from calculus. It's easiest to understand if we convert a two layer network into a graph representation.\n",
    "\n",
    "In the forward pass through the network, our data and operations go from right to left here. To train the weights with gradient descent, we propagate the gradient of the cost backwards through the network. Mathematically, this is really just calculating the gradient of the loss with respect to the weights using the chain rule.\n",
    "\n",
    "$$\n",
    "\\frac{\\partial \\ell}{\\partial w_1} = \\frac{\\partial l_1}{\\partial w_1} \\frac{\\partial s}{\\partial l_1} \\frac{\\partial l_2}{\\partial s} \\frac{\\partial \\ell}{\\partial l_2}\n",
    "$$\n",
    "\n",
    "We update our weights using this gradient with some learning rate $\\alpha$. \n",
    "\n",
    "$$\n",
    "w^\\prime = w - \\alpha \\frac{\\partial \\ell}{\\partial w}\n",
    "$$\n",
    "\n",
    "The learning rate is set such that the weight update steps are small enough that the iterative method settles in a minimum.\n",
    "\n",
    "The first thing we need to do for training is define our loss function. In PyTorch, you'll usually see this as `criterion`. Here we're using softmax output, so we want to use `criterion = nn.CrossEntropyLoss()` as our loss. Later when training, you use `loss = criterion(output, targets)` to calculate the actual loss.\n",
    "\n",
    "We also need to define the optimizer we're using, SGD or Adam, or something along those lines. Here I'll just use SGD with `torch.optim.SGD`, passing in the network parameters and the learning rate."
   ]
  },
  {
   "cell_type": "markdown",
   "metadata": {},
   "source": [
    "<a id = 'autograd'></a>\n",
    "## Autograd\n",
    "\n",
    "Torch provides a module, `autograd`, for automatically calculating the gradient of tensors. It does this by keeping track of operations performed on tensors. To make sure PyTorch keeps track of operations on a tensor and calculates the gradients, you need to set `requires_grad` on a tensor. You can do this at creation with the `requires_grad` keyword, or at any time with `x.requires_grad_(True)`.\n",
    "\n",
    "You can turn off gradients for a block of code with the `torch.no_grad()` content:\n",
    "```python\n",
    "x = torch.zeros(1, requires_grad=True)\n",
    ">>> with torch.no_grad():\n",
    "...     y = x * 2\n",
    ">>> y.requires_grad\n",
    "False\n",
    "```\n",
    "\n",
    "Also, you can turn on or off gradients altogether with `torch.set_grad_enabled(True|False)`.\n",
    "\n",
    "The gradients are computed with respect to some variable `z` with `z.backward()`. This does a backward pass through the operations that created `z`.\n",
    "\n",
    "The following codes illustrate the autograd module."
   ]
  },
  {
   "cell_type": "code",
   "execution_count": 1,
   "metadata": {},
   "outputs": [],
   "source": [
    "%matplotlib inline\n",
    "%config InlineBackend.figure_format = 'retina'\n",
    "\n",
    "from collections import OrderedDict\n",
    "\n",
    "import numpy as np\n",
    "import time\n",
    "\n",
    "import torch\n",
    "from torch import nn\n",
    "from torch import optim\n",
    "import torch.nn.functional as F\n",
    "\n",
    "import helper"
   ]
  },
  {
   "cell_type": "code",
   "execution_count": 2,
   "metadata": {},
   "outputs": [
    {
     "name": "stdout",
     "output_type": "stream",
     "text": [
      "tensor([[ 3.7610,  0.7640],\n",
      "        [ 0.5399,  0.9701]])\n"
     ]
    }
   ],
   "source": [
    "# create a random matrix\n",
    "x = torch.randn(2, 2,requires_grad=True)\n",
    "print(x)"
   ]
  },
  {
   "cell_type": "code",
   "execution_count": 3,
   "metadata": {},
   "outputs": [
    {
     "name": "stdout",
     "output_type": "stream",
     "text": [
      "tensor([[ 14.1454,   0.5837],\n",
      "        [  0.2915,   0.9410]])\n"
     ]
    }
   ],
   "source": [
    "y = x **2\n",
    "print(y)"
   ]
  },
  {
   "cell_type": "markdown",
   "metadata": {},
   "source": [
    "Below we can see the operation that created `y`, a power operation `PowBackward0`."
   ]
  },
  {
   "cell_type": "code",
   "execution_count": 4,
   "metadata": {},
   "outputs": [
    {
     "name": "stdout",
     "output_type": "stream",
     "text": [
      "<PowBackward0 object at 0x1071875c0>\n"
     ]
    }
   ],
   "source": [
    "## grad_fn shows the function that generated this variable\n",
    "print(y.grad_fn)"
   ]
  },
  {
   "cell_type": "markdown",
   "metadata": {},
   "source": [
    "The autgrad module keeps track of these operations and knows how to calculate the gradient for each one. In this way, it's able to calculate the gradients for a chain of operations, with respect to any one tensor. Let's reduce the tensor `y` to a scalar value, the mean."
   ]
  },
  {
   "cell_type": "code",
   "execution_count": 5,
   "metadata": {},
   "outputs": [
    {
     "name": "stdout",
     "output_type": "stream",
     "text": [
      "tensor(3.9904)\n"
     ]
    }
   ],
   "source": [
    "z = y.mean()\n",
    "print(z)"
   ]
  },
  {
   "cell_type": "code",
   "execution_count": 6,
   "metadata": {},
   "outputs": [
    {
     "name": "stdout",
     "output_type": "stream",
     "text": [
      "None\n",
      "None\n"
     ]
    }
   ],
   "source": [
    "# You can check the gradients for x and y but they are empty currently because we haven't calculate the backword yet\n",
    "print(x.grad)\n",
    "print(y.grad)"
   ]
  },
  {
   "cell_type": "markdown",
   "metadata": {},
   "source": [
    "To calculate the gradients, you need to run the `.backward` method on a Variable, `z` for example. This will calculate the gradient for `z` with respect to `x`\n",
    "\n",
    "$$\n",
    "\\frac{\\partial z}{\\partial x} = \\frac{\\partial}{\\partial x}\\left[\\frac{1}{n}\\sum_i^n x_i^2\\right] = \\frac{x}{2}\n",
    "$$\n",
    "\n",
    "Note: we have 4 elements so n = 4. X^2 derivative with respect to X is 2X"
   ]
  },
  {
   "cell_type": "code",
   "execution_count": 7,
   "metadata": {},
   "outputs": [
    {
     "name": "stdout",
     "output_type": "stream",
     "text": [
      "tensor([[ 1.8805,  0.3820],\n",
      "        [ 0.2700,  0.4850]])\n",
      "tensor([[ 1.8805,  0.3820],\n",
      "        [ 0.2700,  0.4850]])\n",
      "If all 1, that's means x.grad = x/2.\n",
      "  tensor([[ 1,  1],\n",
      "        [ 1,  1]], dtype=torch.uint8)\n"
     ]
    }
   ],
   "source": [
    "# backprop z\n",
    "z.backward()\n",
    "\n",
    "# check the gradient\n",
    "print(x.grad)\n",
    "\n",
    "# see if x.grad matches with x/2\n",
    "print(x/2)\n",
    "\n",
    "print(\"If all 1, that's means x.grad = x/2.\\n \", x.grad == (x/2))"
   ]
  },
  {
   "cell_type": "markdown",
   "metadata": {},
   "source": [
    "These gradients calculations are particularly useful for neural networks. For training we need the gradients of the weights with respect to the cost. With PyTorch, we run data forward through the network to calculate the cost, then, go backwards to calculate the gradients with respect to the cost. Once we have the gradients we can make a gradient descent step."
   ]
  },
  {
   "cell_type": "markdown",
   "metadata": {},
   "source": [
    "<a id = 'buildnetwork'></a>\n",
    "## Start training the network\n",
    "\n",
    "Get the data and define the network\n",
    "\n",
    "The same as we saw in part 2, we'll load the MNIST dataset and define our network."
   ]
  },
  {
   "cell_type": "code",
   "execution_count": 8,
   "metadata": {},
   "outputs": [],
   "source": [
    "from torchvision import datasets, transforms\n",
    "\n",
    "# Define a transform to normalize the data\n",
    "transform = transforms.Compose([transforms.ToTensor(),\n",
    "                                transforms.Normalize((0.5,0.5,0.5),(0.5,0.5,0.5))])\n",
    "\n",
    "# Download and load the training data\n",
    "trainset = datasets.MNIST('MNIST_data/', download=True, train=True, transform=transform)\n",
    "trainloader = torch.utils.data.DataLoader(trainset, batch_size=64, shuffle=True)"
   ]
  },
  {
   "cell_type": "markdown",
   "metadata": {},
   "source": [
    "I'll build a network with `nn.Sequential` here. Only difference from the last part is I'm not actually using softmax on the output, but instead just using the raw output from the last layer. This is because the output from softmax is a probability distribution. Often, the output will have values really close to zero or really close to one. Due to [inaccuracies with representing numbers as floating points](https://docs.python.org/3/tutorial/floatingpoint.html), computations with a softmax output can lose accuracy and become unstable. To get around this, we'll use the raw output, called the **logits**, to calculate the loss."
   ]
  },
  {
   "cell_type": "code",
   "execution_count": 10,
   "metadata": {},
   "outputs": [],
   "source": [
    "# define hyperparameter for our model \n",
    "input_size = 784\n",
    "hidden_layer = [128, 64]\n",
    "output_size = 10\n",
    "\n",
    "# build the feed-forward model\n",
    "model = nn.Sequential(OrderedDict([\n",
    "                     ('fc1', nn.Linear(input_size, hidden_layer[0])),\n",
    "                     ('relu1', nn.ReLU()),\n",
    "                     ('fc2', nn.Linear(hidden_layer[0], hidden_layer[1])),\n",
    "                     ('logits', nn.Linear(hidden_layer[1], output_size))]))"
   ]
  },
  {
   "cell_type": "markdown",
   "metadata": {},
   "source": [
    "<a id = 'trainnetwork'></a>\n",
    "## Training the network!\n",
    "\n",
    "The first thing we need to do for training is define our loss function. In PyTorch, you'll usually see this as `criterion`. Here we're using softmax output, so we want to use `criterion = nn.CrossEntropyLoss()` as our loss. Later when training, you use `loss = criterion(output, targets)` to calculate the actual loss.\n",
    "\n",
    "We also need to define the optimizer we're using, SGD or Adam, or something along those lines. Here I'll just use SGD with `torch.optim.SGD`, passing in the network parameters and the learning rate."
   ]
  },
  {
   "cell_type": "code",
   "execution_count": 11,
   "metadata": {},
   "outputs": [
    {
     "data": {
      "text/plain": [
       "<bound method Module.parameters of Sequential(\n",
       "  (fc1): Linear(in_features=784, out_features=128, bias=True)\n",
       "  (relu1): ReLU()\n",
       "  (fc2): Linear(in_features=128, out_features=64, bias=True)\n",
       "  (logits): Linear(in_features=64, out_features=10, bias=True)\n",
       ")>"
      ]
     },
     "execution_count": 11,
     "metadata": {},
     "output_type": "execute_result"
    }
   ],
   "source": [
    "# see the model parameters to make sure we create the neural network properly. \n",
    "model.parameters"
   ]
  },
  {
   "cell_type": "code",
   "execution_count": 12,
   "metadata": {},
   "outputs": [],
   "source": [
    "criterion = nn.CrossEntropyLoss()\n",
    "optimizer = optim.SGD(model.parameters(), lr=0.001)"
   ]
  },
  {
   "cell_type": "markdown",
   "metadata": {},
   "source": [
    "First, let's consider just one learning step before looping through all the data. The general process with PyTorch:\n",
    "\n",
    "* Make a forward pass through the network to get the logits \n",
    "* Use the logits to calculate the loss\n",
    "* Perform a backward pass through the network with `loss.backward()` to calculate the gradients\n",
    "* Take a step with the optimizer to update the weights\n",
    "\n",
    "Below I'll go through one training step and print out the weights and gradients so you can see how it changes."
   ]
  },
  {
   "cell_type": "code",
   "execution_count": 13,
   "metadata": {},
   "outputs": [],
   "source": [
    "# try one image example\n",
    "images, labels = next(iter(trainloader))"
   ]
  },
  {
   "cell_type": "code",
   "execution_count": 14,
   "metadata": {},
   "outputs": [
    {
     "data": {
      "text/plain": [
       "torch.Size([64, 1, 28, 28])"
      ]
     },
     "execution_count": 14,
     "metadata": {},
     "output_type": "execute_result"
    }
   ],
   "source": [
    "# check the images size\n",
    "images.size()"
   ]
  },
  {
   "cell_type": "code",
   "execution_count": 15,
   "metadata": {},
   "outputs": [
    {
     "name": "stdout",
     "output_type": "stream",
     "text": [
      "Initial weights -  Parameter containing:\n",
      "tensor([[ 2.4935e-02, -2.1995e-02, -1.3368e-02,  ...,  2.3797e-02,\n",
      "         -1.7565e-02, -2.4601e-02],\n",
      "        [-3.0496e-02, -2.0130e-02, -3.2776e-02,  ...,  2.3805e-02,\n",
      "         -2.8766e-02,  1.8333e-02],\n",
      "        [-4.6981e-04,  2.9383e-02,  3.4511e-02,  ..., -1.9006e-02,\n",
      "         -2.4319e-03, -2.6045e-02],\n",
      "        ...,\n",
      "        [ 8.4056e-04, -1.0059e-02, -9.7096e-03,  ..., -9.7570e-04,\n",
      "         -1.5515e-03, -2.2610e-02],\n",
      "        [ 3.5283e-02,  3.0022e-02, -6.5701e-04,  ..., -2.7307e-02,\n",
      "          2.9713e-03,  2.6113e-03],\n",
      "        [-2.1180e-02, -6.6372e-03, -1.0936e-02,  ...,  2.2196e-02,\n",
      "          1.0461e-02, -2.9415e-02]])\n",
      "Gradient - tensor(1.00000e-02 *\n",
      "       [[ 0.0465,  0.0465,  0.0465,  ...,  0.0465,  0.0465,  0.0465],\n",
      "        [ 0.3749,  0.3749,  0.3749,  ...,  0.3749,  0.3749,  0.3749],\n",
      "        [-0.0150, -0.0150, -0.0150,  ..., -0.0150, -0.0150, -0.0150],\n",
      "        ...,\n",
      "        [ 0.1196,  0.1196,  0.1196,  ...,  0.1196,  0.1196,  0.1196],\n",
      "        [ 0.0867,  0.0867,  0.0867,  ...,  0.0867,  0.0867,  0.0867],\n",
      "        [ 0.0820,  0.0820,  0.0820,  ...,  0.0820,  0.0820,  0.0820]])\n"
     ]
    }
   ],
   "source": [
    "print('Initial weights - ', model.fc1.weight)\n",
    "\n",
    "images, labels = next(iter(trainloader))\n",
    "images.resize_(64, 784)\n",
    "\n",
    "# Clear the gradients, do this because gradients are accumulated\n",
    "optimizer.zero_grad()\n",
    "\n",
    "# Forward pass, then backward pass, then update weights\n",
    "\n",
    "# step 1: Make a forward pass through the network to get the logits\n",
    "output = model.forward(images)\n",
    "\n",
    "# step 2: Use the logits to calculate the loss\n",
    "loss = criterion(output, labels)\n",
    "\n",
    "# step3: Perform a backward pass through the network with loss.backward() to calculate the gradients\n",
    "loss.backward() # calculate the gradient\n",
    "\n",
    "# Now we can see the gradient\n",
    "print('Gradient -', model.fc1.weight.grad)\n",
    "\n",
    "# step 4: Take a step with the optimizer to update the weights\n",
    "optimizer.step()\n"
   ]
  },
  {
   "cell_type": "code",
   "execution_count": 16,
   "metadata": {},
   "outputs": [
    {
     "data": {
      "text/plain": [
       "2.3179285526275635"
      ]
     },
     "execution_count": 16,
     "metadata": {},
     "output_type": "execute_result"
    }
   ],
   "source": [
    "loss.item()"
   ]
  },
  {
   "cell_type": "code",
   "execution_count": 17,
   "metadata": {},
   "outputs": [
    {
     "name": "stdout",
     "output_type": "stream",
     "text": [
      "Updated weights -  Parameter containing:\n",
      "tensor([[ 2.4934e-02, -2.1996e-02, -1.3368e-02,  ...,  2.3796e-02,\n",
      "         -1.7566e-02, -2.4601e-02],\n",
      "        [-3.0500e-02, -2.0134e-02, -3.2780e-02,  ...,  2.3801e-02,\n",
      "         -2.8769e-02,  1.8330e-02],\n",
      "        [-4.6966e-04,  2.9383e-02,  3.4512e-02,  ..., -1.9006e-02,\n",
      "         -2.4317e-03, -2.6044e-02],\n",
      "        ...,\n",
      "        [ 8.3937e-04, -1.0061e-02, -9.7108e-03,  ..., -9.7689e-04,\n",
      "         -1.5527e-03, -2.2611e-02],\n",
      "        [ 3.5282e-02,  3.0021e-02, -6.5788e-04,  ..., -2.7308e-02,\n",
      "          2.9704e-03,  2.6104e-03],\n",
      "        [-2.1181e-02, -6.6380e-03, -1.0936e-02,  ...,  2.2195e-02,\n",
      "          1.0460e-02, -2.9416e-02]])\n"
     ]
    }
   ],
   "source": [
    "# see how the weights are updated. \n",
    "print('Updated weights - ', model.fc1.weight)"
   ]
  },
  {
   "cell_type": "markdown",
   "metadata": {},
   "source": [
    "## Training for real\n",
    "\n",
    "Now we'll put this algorithm into a loop so we can go through all the images. This is fairly straightforward. We'll loop through the mini-batches in our dataset, pass the data through the network to calculate the losses, get the gradients, then run the optimizer."
   ]
  },
  {
   "cell_type": "code",
   "execution_count": 18,
   "metadata": {},
   "outputs": [],
   "source": [
    "optimizer = optim.SGD(model.parameters(), lr=0.003)"
   ]
  },
  {
   "cell_type": "code",
   "execution_count": 19,
   "metadata": {},
   "outputs": [
    {
     "name": "stdout",
     "output_type": "stream",
     "text": [
      "Epoch: 1/3... Loss: 2.2926\n",
      "Epoch: 1/3... Loss: 2.2545\n",
      "Epoch: 1/3... Loss: 2.2137\n",
      "Epoch: 1/3... Loss: 2.1733\n",
      "Epoch: 1/3... Loss: 2.1325\n",
      "Epoch: 1/3... Loss: 2.0782\n",
      "Epoch: 1/3... Loss: 2.0403\n",
      "Epoch: 1/3... Loss: 1.9860\n",
      "Epoch: 1/3... Loss: 1.9141\n",
      "Epoch: 1/3... Loss: 1.8354\n",
      "Epoch: 1/3... Loss: 1.7986\n",
      "Epoch: 1/3... Loss: 1.7226\n",
      "Epoch: 1/3... Loss: 1.6504\n",
      "Epoch: 1/3... Loss: 1.5877\n",
      "Epoch: 1/3... Loss: 1.5039\n",
      "Epoch: 1/3... Loss: 1.4283\n",
      "Epoch: 1/3... Loss: 1.3734\n",
      "Epoch: 1/3... Loss: 1.2967\n",
      "Epoch: 1/3... Loss: 1.2163\n",
      "Epoch: 1/3... Loss: 1.1824\n",
      "Epoch: 1/3... Loss: 1.1025\n",
      "Epoch: 1/3... Loss: 1.0678\n",
      "Epoch: 1/3... Loss: 1.0060\n",
      "Epoch: 2/3... Loss: 0.5281\n",
      "Epoch: 2/3... Loss: 0.9182\n",
      "Epoch: 2/3... Loss: 0.8935\n",
      "Epoch: 2/3... Loss: 0.8719\n",
      "Epoch: 2/3... Loss: 0.8004\n",
      "Epoch: 2/3... Loss: 0.7816\n",
      "Epoch: 2/3... Loss: 0.7784\n",
      "Epoch: 2/3... Loss: 0.7698\n",
      "Epoch: 2/3... Loss: 0.6979\n",
      "Epoch: 2/3... Loss: 0.7320\n",
      "Epoch: 2/3... Loss: 0.6996\n",
      "Epoch: 2/3... Loss: 0.6636\n",
      "Epoch: 2/3... Loss: 0.6747\n",
      "Epoch: 2/3... Loss: 0.6473\n",
      "Epoch: 2/3... Loss: 0.6217\n",
      "Epoch: 2/3... Loss: 0.5962\n",
      "Epoch: 2/3... Loss: 0.6237\n",
      "Epoch: 2/3... Loss: 0.6023\n",
      "Epoch: 2/3... Loss: 0.5955\n",
      "Epoch: 2/3... Loss: 0.5659\n",
      "Epoch: 2/3... Loss: 0.5848\n",
      "Epoch: 2/3... Loss: 0.5513\n",
      "Epoch: 2/3... Loss: 0.5878\n",
      "Epoch: 3/3... Loss: 0.0474\n",
      "Epoch: 3/3... Loss: 0.5439\n",
      "Epoch: 3/3... Loss: 0.5451\n",
      "Epoch: 3/3... Loss: 0.5308\n",
      "Epoch: 3/3... Loss: 0.5221\n",
      "Epoch: 3/3... Loss: 0.5091\n",
      "Epoch: 3/3... Loss: 0.5108\n",
      "Epoch: 3/3... Loss: 0.5097\n",
      "Epoch: 3/3... Loss: 0.4633\n",
      "Epoch: 3/3... Loss: 0.5132\n",
      "Epoch: 3/3... Loss: 0.4677\n",
      "Epoch: 3/3... Loss: 0.4785\n",
      "Epoch: 3/3... Loss: 0.4830\n",
      "Epoch: 3/3... Loss: 0.4917\n",
      "Epoch: 3/3... Loss: 0.4639\n",
      "Epoch: 3/3... Loss: 0.4398\n",
      "Epoch: 3/3... Loss: 0.4452\n",
      "Epoch: 3/3... Loss: 0.4586\n",
      "Epoch: 3/3... Loss: 0.4563\n",
      "Epoch: 3/3... Loss: 0.4404\n",
      "Epoch: 3/3... Loss: 0.4366\n",
      "Epoch: 3/3... Loss: 0.4434\n",
      "Epoch: 3/3... Loss: 0.4233\n",
      "Epoch: 3/3... Loss: 0.4234\n"
     ]
    }
   ],
   "source": [
    "epochs = 3 # epochs is the pass to the dataset. Here we pass the dataset 3 times\n",
    "print_every = 40 # print out some results for every 40 run\n",
    "steps = 0\n",
    "\n",
    "for e in range(epochs):\n",
    "    running_loss = 0 # this is to print out the loss of the train for each trail. We should expect this to drop since \n",
    "                     # as our network learns, our prediction becomes better and loss is smaller. \n",
    "    \n",
    "    for images, labels in iter(trainloader):\n",
    "        steps += 1 # record # of steps we train\n",
    "        \n",
    "        # Flatten MNIST images into a 784 long vector\n",
    "        images.resize_(images.shape[0], 784)\n",
    "        \n",
    "        # Clear the gradients, do this because gradients are accumulated\n",
    "        optimizer.zero_grad()\n",
    "        \n",
    "        # do the forward, backward, then update the weighs\n",
    "        output = model.forward(images)\n",
    "        loss = criterion(output, labels)\n",
    "        loss.backward()\n",
    "        optimizer.step()\n",
    "        \n",
    "        running_loss += loss.item()\n",
    "        \n",
    "        # print out the results for every 40 trails\n",
    "        if steps % print_every == 0:\n",
    "            print(\"Epoch: {}/{}...\".format(e+1,epochs),\n",
    "                  \"Loss: {:.4f}\".format(running_loss/print_every))\n",
    "            \n",
    "            running_loss = 0"
   ]
  },
  {
   "cell_type": "markdown",
   "metadata": {},
   "source": [
    "<a id = 'evaluate'></a>\n",
    "## Evaluate the Model\n",
    "\n",
    "With the network trained, we can check out it's predictions."
   ]
  },
  {
   "cell_type": "code",
   "execution_count": 20,
   "metadata": {},
   "outputs": [
    {
     "data": {
      "image/png": "[encoded data removed]",
      "text/plain": [
       "<Figure size 432x648 with 2 Axes>"
      ]
     },
     "metadata": {
      "image/png": {
       "height": 224,
       "width": 423
      }
     },
     "output_type": "display_data"
    }
   ],
   "source": [
    "images, labesl = next(iter(trainloader))\n",
    "\n",
    "img = images[0].view(1,784)\n",
    "\n",
    "# Turn off gradients to speed up this part. Put the image to the model for prediction\n",
    "with torch.no_grad():\n",
    "    logits = model.forward(img)\n",
    "    \n",
    "# Output of the network are logits, need to take softmax for probabilities\n",
    "ps = F.softmax(logits, dim=1)\n",
    "helper.view_classify(img.view(1, 28, 28), ps)"
   ]
  },
  {
   "cell_type": "markdown",
   "metadata": {},
   "source": [
    "The result looks farily good! It does predict a high probability of image = 0."
   ]
  },
  {
   "cell_type": "code",
   "execution_count": null,
   "metadata": {},
   "outputs": [],
   "source": []
  }
 ],
 "metadata": {
  "kernelspec": {
   "display_name": "Python 3",
   "language": "python",
   "name": "python3"
  },
  "language_info": {
   "codemirror_mode": {
    "name": "ipython",
    "version": 3
   },
   "file_extension": ".py",
   "mimetype": "text/x-python",
   "name": "python",
   "nbconvert_exporter": "python",
   "pygments_lexer": "ipython3",
   "version": "3.6.5"
  }
 },
 "nbformat": 4,
 "nbformat_minor": 2
}
