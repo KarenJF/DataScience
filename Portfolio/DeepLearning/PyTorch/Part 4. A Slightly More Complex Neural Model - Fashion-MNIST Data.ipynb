{
 "cells": [
  {
   "cell_type": "markdown",
   "metadata": {},
   "source": [
    "## Part 4: Try a More Complex Neural Model - Fashion-MNIST Data\n",
    "\n",
    "Now let's build and train a more complext neural network for a complext dataset. We will be using the Fashion-MNIST dataset, a drop-in replacement for the MNIST dataset. MNIST is actually quite trivial with neural networks where you can easily achieve better than 97% accuracy. Fashion-MNIST is a set of 28x28 greyscale images of clothes. It's more complex than MNIST, so it's a better representation of the actual performance of our network, and a better representation of datasets that we will use in the real world.\n",
    "\n",
    "The steps are similar to what we do in the previous part.\n",
    "* [Load a dataset](#load)\n",
    "* [Build a Network](#build)\n",
    "* [Train the Network](#train) \n",
    "* [Test the Network](#test)"
   ]
  },
  {
   "cell_type": "markdown",
   "metadata": {},
   "source": [
    "<a id = 'load'></a>\n",
    "## Load a Dataset\n",
    "\n",
    "First off, let's load the dataset through torchvision."
   ]
  },
  {
   "cell_type": "code",
   "execution_count": 1,
   "metadata": {},
   "outputs": [],
   "source": [
    "%matplotlib inline\n",
    "%config InlineBackend.figure_format = 'retina'\n",
    "\n",
    "import matplotlib.pyplot as plt\n",
    "import numpy as np\n",
    "import time\n",
    "\n",
    "import torch \n",
    "from torch import nn\n",
    "from torch import optim\n",
    "import torch.nn.functional as F\n",
    "from collections import OrderedDict\n",
    "\n",
    "from torchvision import datasets, transforms\n",
    "import helper"
   ]
  },
  {
   "cell_type": "code",
   "execution_count": 2,
   "metadata": {},
   "outputs": [],
   "source": [
    "# Define a transform to normalize the data\n",
    "transform = transforms.Compose([transforms.ToTensor(),\n",
    "                                transforms.Normalize((0.5,0.5,0.5),(0.5,0.5,0.5))])\n",
    "\n",
    "# Download and load the training data\n",
    "trainset = datasets.FashionMNIST('F_MNIST_data/', download = True, train = True, transform=transform)\n",
    "trainloader = torch.utils.data.DataLoader(trainset, batch_size = 64, shuffle=True)\n",
    "\n",
    "# Download and load the testing data\n",
    "testset = datasets.FashionMNIST('F_MNIST_data/', download = True, train = False, transform = transform)\n",
    "testloader = torch.utils.data.DataLoader(testset, batch_size = 64, shuffle = True)"
   ]
  },
  {
   "cell_type": "markdown",
   "metadata": {},
   "source": [
    "Take a look at one of the image"
   ]
  },
  {
   "cell_type": "code",
   "execution_count": 3,
   "metadata": {},
   "outputs": [
    {
     "data": {
      "text/plain": [
       "<matplotlib.axes._subplots.AxesSubplot at 0x10df6a630>"
      ]
     },
     "execution_count": 3,
     "metadata": {},
     "output_type": "execute_result"
    },
    {
     "data": {
      "image/png": "[encoded data removed]",
      "text/plain": [
       "<Figure size 432x288 with 1 Axes>"
      ]
     },
     "metadata": {
      "image/png": {
       "height": 233,
       "width": 233
      }
     },
     "output_type": "display_data"
    }
   ],
   "source": [
    "images, labels = next(iter(trainloader))\n",
    "helper.imshow(images[0])"
   ]
  },
  {
   "cell_type": "markdown",
   "metadata": {},
   "source": [
    "Check the size of the images to prepare for building the network "
   ]
  },
  {
   "cell_type": "markdown",
   "metadata": {},
   "source": [
    "<a id = 'build'></a>\n",
    "## Build the Network\n",
    "\n",
    "For this dataset MNIST, each image is 28x28 which is a total of 784 pixels, and there are 10 classes. \n",
    "\n",
    "We are going to build 3 hidden layers. Using ReLu activations for the layers and to return the logits from the forward pass. "
   ]
  },
  {
   "cell_type": "code",
   "execution_count": 4,
   "metadata": {},
   "outputs": [],
   "source": [
    "# Define your network architecture here\n",
    "\n",
    "# Hyperparameters for the network \n",
    "input_size = 784\n",
    "hidden_layer = [256, 128, 64]\n",
    "output_size = 10\n",
    "\n",
    "model = nn.Sequential(OrderedDict([\n",
    "                        ('fc1', nn.Linear(input_size,hidden_layer[0])),\n",
    "                        ('relu1', nn.ReLU()),\n",
    "                        ('fc2', nn.Linear(hidden_layer[0],hidden_layer[1])),\n",
    "                        ('relu2', nn.ReLU()),\n",
    "                        ('fc3', nn.Linear(hidden_layer[1], hidden_layer[2])),\n",
    "                        ('relu3', nn.ReLU()),\n",
    "                        ('logits', nn.Linear(hidden_layer[2], output_size))]))"
   ]
  },
  {
   "cell_type": "code",
   "execution_count": 5,
   "metadata": {},
   "outputs": [
    {
     "data": {
      "text/plain": [
       "<bound method Module.parameters of Sequential(\n",
       "  (fc1): Linear(in_features=784, out_features=256, bias=True)\n",
       "  (relu1): ReLU()\n",
       "  (fc2): Linear(in_features=256, out_features=128, bias=True)\n",
       "  (relu2): ReLU()\n",
       "  (fc3): Linear(in_features=128, out_features=64, bias=True)\n",
       "  (relu3): ReLU()\n",
       "  (logits): Linear(in_features=64, out_features=10, bias=True)\n",
       ")>"
      ]
     },
     "execution_count": 5,
     "metadata": {},
     "output_type": "execute_result"
    }
   ],
   "source": [
    "# take a look at the model parameters\n",
    "model.parameters"
   ]
  },
  {
   "cell_type": "markdown",
   "metadata": {},
   "source": [
    "<a id = 'train'></a>\n",
    "## Train the Network\n",
    "\n",
    "Now we created the network, we can start to train it. First you'll want to define [the criterion](http://pytorch.org/docs/master/nn.html#loss-functions) ( something like `nn.CrossEntropyLoss`) and [the optimizer](http://pytorch.org/docs/master/optim.html) (typically `optim.SGD` or `optim.Adam`).\n",
    "\n",
    "Steps for training the network: \n",
    "\n",
    "* Make a forward pass through the network to get the logits \n",
    "* Use the logits to calculate the loss\n",
    "* Perform a backward pass through the network with `loss.backward()` to calculate the gradients\n",
    "* Take a step with the optimizer to update the weights\n"
   ]
  },
  {
   "cell_type": "code",
   "execution_count": 6,
   "metadata": {},
   "outputs": [],
   "source": [
    "# Create the network, define the criterion and optimizer\n",
    "criterion = nn.CrossEntropyLoss()\n",
    "optimizer = optim.SGD(model.parameters(),lr = 0.01)"
   ]
  },
  {
   "cell_type": "code",
   "execution_count": 7,
   "metadata": {},
   "outputs": [
    {
     "name": "stdout",
     "output_type": "stream",
     "text": [
      "Epoch: 1/3 Loss: 2.2862\n",
      "Epoch: 1/3 Loss: 2.2442\n",
      "Epoch: 1/3 Loss: 2.1854\n",
      "Epoch: 1/3 Loss: 2.0813\n",
      "Epoch: 1/3 Loss: 1.9117\n",
      "Epoch: 1/3 Loss: 1.7083\n",
      "Epoch: 1/3 Loss: 1.5281\n",
      "Epoch: 1/3 Loss: 1.3743\n",
      "Epoch: 1/3 Loss: 1.2336\n",
      "Epoch: 1/3 Loss: 1.1304\n",
      "Epoch: 1/3 Loss: 1.0292\n",
      "Epoch: 1/3 Loss: 0.9688\n",
      "Epoch: 1/3 Loss: 0.9256\n",
      "Epoch: 1/3 Loss: 0.8864\n",
      "Epoch: 1/3 Loss: 0.8495\n",
      "Epoch: 1/3 Loss: 0.8037\n",
      "Epoch: 1/3 Loss: 0.7830\n",
      "Epoch: 1/3 Loss: 0.7869\n",
      "Epoch: 1/3 Loss: 0.7396\n",
      "Epoch: 1/3 Loss: 0.7204\n",
      "Epoch: 1/3 Loss: 0.7200\n",
      "Epoch: 1/3 Loss: 0.7110\n",
      "Epoch: 1/3 Loss: 0.6944\n",
      "Epoch: 2/3 Loss: 0.3737\n",
      "Epoch: 2/3 Loss: 0.6513\n",
      "Epoch: 2/3 Loss: 0.6545\n",
      "Epoch: 2/3 Loss: 0.6305\n",
      "Epoch: 2/3 Loss: 0.6552\n",
      "Epoch: 2/3 Loss: 0.6356\n",
      "Epoch: 2/3 Loss: 0.6180\n",
      "Epoch: 2/3 Loss: 0.6620\n",
      "Epoch: 2/3 Loss: 0.6313\n",
      "Epoch: 2/3 Loss: 0.6347\n",
      "Epoch: 2/3 Loss: 0.6296\n",
      "Epoch: 2/3 Loss: 0.6191\n",
      "Epoch: 2/3 Loss: 0.5877\n",
      "Epoch: 2/3 Loss: 0.6023\n",
      "Epoch: 2/3 Loss: 0.6038\n",
      "Epoch: 2/3 Loss: 0.5662\n",
      "Epoch: 2/3 Loss: 0.6092\n",
      "Epoch: 2/3 Loss: 0.5608\n",
      "Epoch: 2/3 Loss: 0.5602\n",
      "Epoch: 2/3 Loss: 0.5976\n",
      "Epoch: 2/3 Loss: 0.5816\n",
      "Epoch: 2/3 Loss: 0.5633\n",
      "Epoch: 2/3 Loss: 0.5797\n",
      "Epoch: 3/3 Loss: 0.0608\n",
      "Epoch: 3/3 Loss: 0.5441\n",
      "Epoch: 3/3 Loss: 0.5402\n",
      "Epoch: 3/3 Loss: 0.5548\n",
      "Epoch: 3/3 Loss: 0.5242\n",
      "Epoch: 3/3 Loss: 0.5416\n",
      "Epoch: 3/3 Loss: 0.5278\n",
      "Epoch: 3/3 Loss: 0.5270\n",
      "Epoch: 3/3 Loss: 0.5609\n",
      "Epoch: 3/3 Loss: 0.5647\n",
      "Epoch: 3/3 Loss: 0.5166\n",
      "Epoch: 3/3 Loss: 0.5041\n",
      "Epoch: 3/3 Loss: 0.5219\n",
      "Epoch: 3/3 Loss: 0.5129\n",
      "Epoch: 3/3 Loss: 0.5429\n",
      "Epoch: 3/3 Loss: 0.5345\n",
      "Epoch: 3/3 Loss: 0.4863\n",
      "Epoch: 3/3 Loss: 0.5079\n",
      "Epoch: 3/3 Loss: 0.4907\n",
      "Epoch: 3/3 Loss: 0.4709\n",
      "Epoch: 3/3 Loss: 0.4978\n",
      "Epoch: 3/3 Loss: 0.5222\n",
      "Epoch: 3/3 Loss: 0.4921\n",
      "Epoch: 3/3 Loss: 0.4828\n"
     ]
    }
   ],
   "source": [
    "# Train the network\n",
    "\n",
    "epochs = 3\n",
    "print_every = 40\n",
    "steps = 0\n",
    "\n",
    "for e in range(epochs):\n",
    "    running_loss = 0\n",
    "    \n",
    "    for images, labels in iter(trainloader):\n",
    "        steps += 1\n",
    "        \n",
    "        # Flatten MNIST images into a 784 long vector \n",
    "        images.resize_(images.shape[0],784)\n",
    "        \n",
    "        # zero out the gradients since they get accumulated\n",
    "        optimizer.zero_grad()\n",
    "        \n",
    "        # forward, backward and update weights\n",
    "        output = model.forward(images)\n",
    "        loss = criterion(output, labels)\n",
    "        loss.backward()\n",
    "        optimizer.step()\n",
    "        \n",
    "        running_loss += loss.item()\n",
    "        \n",
    "        if steps % print_every == 0: \n",
    "            print(\"Epoch: {}/{}\".format(e+1,epochs),\n",
    "                  \"Loss: {:.4f}\".format(running_loss/print_every))\n",
    "            \n",
    "            running_loss = 0"
   ]
  },
  {
   "cell_type": "markdown",
   "metadata": {},
   "source": [
    "<a id = 'test'></a>\n",
    "## Test the Model"
   ]
  },
  {
   "cell_type": "code",
   "execution_count": 8,
   "metadata": {},
   "outputs": [
    {
     "data": {
      "image/png": "[encoded data removed]",
      "text/plain": [
       "<Figure size 432x648 with 2 Axes>"
      ]
     },
     "metadata": {
      "image/png": {
       "height": 204,
       "width": 423
      }
     },
     "output_type": "display_data"
    }
   ],
   "source": [
    "dataiter = iter(testloader)\n",
    "images, labels = dataiter.next()\n",
    "\n",
    "# pick one image\n",
    "img = images[0]\n",
    "#convert 2D image to 1D vector\n",
    "img = img.resize_(1,784)\n",
    "\n",
    "# calculate the class probabilities(softmax) for img\n",
    "logits = model.forward(img)\n",
    "ps = F.softmax(logits, dim = 1)\n",
    "\n",
    "# plot the test image and our prediction\n",
    "helper.view_classify(img.resize_(1, 28, 28), ps, version='Fashion')"
   ]
  },
  {
   "cell_type": "markdown",
   "metadata": {},
   "source": [
    "The model does predict the image to be a dress. "
   ]
  },
  {
   "cell_type": "code",
   "execution_count": null,
   "metadata": {},
   "outputs": [],
   "source": []
  },
  {
   "cell_type": "code",
   "execution_count": null,
   "metadata": {},
   "outputs": [],
   "source": []
  }
 ],
 "metadata": {
  "kernelspec": {
   "display_name": "Python 3",
   "language": "python",
   "name": "python3"
  },
  "language_info": {
   "codemirror_mode": {
    "name": "ipython",
    "version": 3
   },
   "file_extension": ".py",
   "mimetype": "text/x-python",
   "name": "python",
   "nbconvert_exporter": "python",
   "pygments_lexer": "ipython3",
   "version": "3.6.5"
  }
 },
 "nbformat": 4,
 "nbformat_minor": 2
}
