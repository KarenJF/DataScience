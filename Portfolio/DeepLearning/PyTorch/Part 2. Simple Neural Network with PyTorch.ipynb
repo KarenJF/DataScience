{
 "cells": [
  {
   "cell_type": "markdown",
   "metadata": {},
   "source": [
    "## Part 2: Build a Simple Neural Network with PyTorch\n",
    "\n",
    "In this notebook, we will start to build a very simply neural network with PyTorch to get a taste of what PyTorch can help in deep learning. The dataset we will use is MNIST from torchvision package. \n",
    "\n",
    "We will go through the following step by step: \n",
    "* [Load a dataset](#loadadataset)\n",
    "* [Explore the dataset](#exploredataset)\n",
    "* [Build a Neural Network with PyTorch](#buildnetwork)"
   ]
  },
  {
   "cell_type": "code",
   "execution_count": 21,
   "metadata": {},
   "outputs": [],
   "source": [
    "# import important library\n",
    "%matplotlib inline\n",
    "%config InlineBackend.figure_format = 'retina'\n",
    "\n",
    "import numpy as np\n",
    "import matplotlib.pyplot as plt\n",
    "\n",
    "import torch\n",
    "from torch import nn\n",
    "from torch import optim\n",
    "import torch.nn.functional as F\n",
    "\n",
    "from torchvision import datasets, transforms, models\n",
    "\n",
    "# for graphing\n",
    "import helper"
   ]
  },
  {
   "cell_type": "markdown",
   "metadata": {},
   "source": [
    "<a id = 'loadadataset'></a>\n",
    "## Load a Dataset\n",
    "\n",
    "We will get a dataset (example: MNIST) from torchvision package as a starter to build a simple neural network."
   ]
  },
  {
   "cell_type": "code",
   "execution_count": 4,
   "metadata": {},
   "outputs": [
    {
     "name": "stdout",
     "output_type": "stream",
     "text": [
      "Downloading http://yann.lecun.com/exdb/mnist/train-images-idx3-ubyte.gz\n",
      "Downloading http://yann.lecun.com/exdb/mnist/train-labels-idx1-ubyte.gz\n",
      "Downloading http://yann.lecun.com/exdb/mnist/t10k-images-idx3-ubyte.gz\n",
      "Downloading http://yann.lecun.com/exdb/mnist/t10k-labels-idx1-ubyte.gz\n",
      "Processing...\n",
      "Done!\n"
     ]
    }
   ],
   "source": [
    "# Define a transform to normalize the data \n",
    "transform = transforms.Compose([transforms.ToTensor(),\n",
    "                                transforms.Normalize([0.5, 0.5, 0.5], [0.5, 0.5, 0.5])])\n",
    "\n",
    "# Download the training and testing dataset\n",
    "# trainset\n",
    "trainset = datasets.MNIST('MNIST_data/', download = True, train = True, transform = transform)\n",
    "testset = datasets.MNIST('MNIST_data/', download= True, train = False, transform = transform)\n",
    "\n",
    "# load the training and testing dataset \n",
    "trainloader = torch.utils.data.DataLoader(trainset, batch_size = 64, shuffle = True)\n",
    "testloader = torch.utils.data.DataLoader(testset, batch_size = 64, shuffle = True)"
   ]
  },
  {
   "cell_type": "markdown",
   "metadata": {},
   "source": [
    "<a id = 'exploredataset'></a>\n",
    "## Explore the Dataset\n",
    "\n",
    "We will take a look at how the image is stored by exploring images size, structure and plot "
   ]
  },
  {
   "cell_type": "code",
   "execution_count": 6,
   "metadata": {},
   "outputs": [
    {
     "name": "stdout",
     "output_type": "stream",
     "text": [
      "train set size:  938\n",
      "test set size:  157\n"
     ]
    }
   ],
   "source": [
    "# check the size of trainloader\n",
    "print(\"train set size: \", len(trainloader))\n",
    "print(\"test set size: \",len(testloader))"
   ]
  },
  {
   "cell_type": "code",
   "execution_count": 7,
   "metadata": {},
   "outputs": [],
   "source": [
    "# grab image from trainloader\n",
    "dataiter = iter(trainloader).next()\n",
    "images, labels = dataiter"
   ]
  },
  {
   "cell_type": "code",
   "execution_count": 8,
   "metadata": {},
   "outputs": [
    {
     "data": {
      "text/plain": [
       "2"
      ]
     },
     "execution_count": 8,
     "metadata": {},
     "output_type": "execute_result"
    }
   ],
   "source": [
    "# check the len of dataiter. \n",
    "# it's 2 tensor. One is for images, one is for labels\n",
    "len(dataiter)"
   ]
  },
  {
   "cell_type": "code",
   "execution_count": 9,
   "metadata": {},
   "outputs": [
    {
     "data": {
      "text/plain": [
       "torch.Size([64, 1, 28, 28])"
      ]
     },
     "execution_count": 9,
     "metadata": {},
     "output_type": "execute_result"
    }
   ],
   "source": [
    "# check the size of the images\n",
    "# there are 64 images per batch, 1 color, 28 * 28 pixel each\n",
    "images.size()"
   ]
  },
  {
   "cell_type": "code",
   "execution_count": 10,
   "metadata": {},
   "outputs": [
    {
     "data": {
      "text/plain": [
       "64"
      ]
     },
     "execution_count": 10,
     "metadata": {},
     "output_type": "execute_result"
    }
   ],
   "source": [
    "# there are 64 images labels per batch\n",
    "len(labels)"
   ]
  },
  {
   "cell_type": "markdown",
   "metadata": {},
   "source": [
    "What's the input size? One input is one image. Each image has 28 * 28 pixel, that's 784 pixel total for one image. Therefore, each input size is 784.  "
   ]
  },
  {
   "cell_type": "code",
   "execution_count": 12,
   "metadata": {},
   "outputs": [
    {
     "data": {
      "text/plain": [
       "784"
      ]
     },
     "execution_count": 12,
     "metadata": {},
     "output_type": "execute_result"
    }
   ],
   "source": [
    "# we can calculate it\n",
    "images.shape[2] * images.shape[3]"
   ]
  },
  {
   "cell_type": "markdown",
   "metadata": {},
   "source": [
    "We have the training data loaded into trainloader and we make that an iterator with iter(trainloader). We'd use this to loop through the dataset for training, but here I'm just grabbing the first batch so we can check out the data. We can see below that images is just a tensor with size (64, 1, 28, 28). So, 64 images per batch, 1 color channel, and 28x28 images."
   ]
  },
  {
   "cell_type": "code",
   "execution_count": 20,
   "metadata": {},
   "outputs": [
    {
     "data": {
      "text/plain": [
       "<matplotlib.image.AxesImage at 0x1220502b0>"
      ]
     },
     "execution_count": 20,
     "metadata": {},
     "output_type": "execute_result"
    },
    {
     "data": {
      "image/png": "[encoded data removed]",
      "text/plain": [
       "<Figure size 432x288 with 1 Axes>"
      ]
     },
     "metadata": {
      "image/png": {
       "height": 250,
       "width": 253
      }
     },
     "output_type": "display_data"
    }
   ],
   "source": [
    "plt.imshow(images[0].numpy().squeeze(), cmap = 'Greys_r')"
   ]
  },
  {
   "cell_type": "markdown",
   "metadata": {},
   "source": [
    "<a id = 'buildnetwork'></a>\n",
    "## Build a Simple Neural Network with PyTorch\n",
    "\n",
    "Here I'll use PyTorch to build a simple feedfoward network to classify the MNIST images. That is, the network will receive a digit image as input and predict the digit in the image.\n",
    "\n",
    "- [**First method: use torhch.nn module**](#firstmethod)\n",
    "\n",
    "    To build a neural network with PyTorch, I use the torch.nn module. The network itself is a class inheriting from torch.nn.Module. I define each of the operations separately, like nn.Linear(784, 128) for a fully connected linear layer with 784 inputs and 128 units.\n",
    "\n",
    "    The class needs to include a forward method that implements the forward pass through the network. In this method, I pass some input tensor x through each of the operations defined earlier. The torch.nn module also has functional equivalents for things like ReLUs in torch.nn.functional. This module is usually imported as F. Then to use a ReLU activation on some layer (which is just a tensor), We'd do F.relu(x). \n",
    "\n",
    "    For this network, I'll build it with three fully connected layers, then a softmax output for predicting classes. The softmax function is similar to the sigmoid in that it squashes inputs between 0 and 1, but it's also normalized so that all the values sum to one like a proper probability distribution.\n",
    "\n",
    "\n",
    "- **[Second method](#secondmethod): we will use PyTorch built-in module: nn.Sequential to simplify the process **"
   ]
  },
  {
   "cell_type": "markdown",
   "metadata": {},
   "source": [
    "<a id='firstmethod'></a>\n",
    "### First method: use torhch.nn module###\n",
    "\n",
    "A. Build the Network Architecture\n",
    "1. Input size: From the exploration above, we know the image has 784 pixel total. Input size = 784\n",
    "2. Hidden Layer: We will build a three layers in this model, that's 128, 64, 10. \n",
    "3. Activation Function: In each hidden layer, we will use the ReLU activation \n",
    "4. Output: We will use softmax output for predicting classes"
   ]
  },
  {
   "cell_type": "code",
   "execution_count": 22,
   "metadata": {},
   "outputs": [
    {
     "data": {
      "text/plain": [
       "Network(\n",
       "  (fc1): Linear(in_features=784, out_features=128, bias=True)\n",
       "  (fc2): Linear(in_features=128, out_features=64, bias=True)\n",
       "  (fc3): Linear(in_features=64, out_features=10, bias=True)\n",
       ")"
      ]
     },
     "execution_count": 22,
     "metadata": {},
     "output_type": "execute_result"
    }
   ],
   "source": [
    "# first start with own written function \n",
    "# actually later on, we know pytorch has built-in module that can help\n",
    "class Network(nn.Module):\n",
    "    def __init__(self):\n",
    "        super().__init__()\n",
    "        # define the layer, 128, 64, 10 because we know the output has 10 digits and predict which one it would be\n",
    "        self.fc1 = nn.Linear(784, 128)\n",
    "        self.fc2 = nn.Linear(128, 64)\n",
    "        \n",
    "        # output layer, 10 units - one for each digit \n",
    "        self.fc3 = nn.Linear(64, 10)\n",
    "        \n",
    "    def forward(self, x):\n",
    "        ''' Forward pass through the network, returns the output logits '''\n",
    "        x = self.fc1(x)\n",
    "        x = F.relu(x)\n",
    "        x = self.fc2(x)\n",
    "        x = F.relu(x)\n",
    "        x = self.fc3(x) # this x return a matrix, with 64 by 10. dim = 0 is the 64 batches, dim = 1 refers to the 10 outputs\n",
    "        x = F.softmax(x, dim=1) # dim = 1 refers to the 10 outputs\n",
    "    \n",
    "        return x\n",
    "\n",
    "model = Network()\n",
    "\n",
    "# take a look at the model architecture\n",
    "model"
   ]
  },
  {
   "cell_type": "markdown",
   "metadata": {},
   "source": [
    "B. Initializing weights and biases \n",
    "\n",
    "The weights and such are automatically initialized for you, but it's possible to customize how they are initialized. The weights and biases are tensors attached to the layer you defined, you can get them with model.fc1.weight for instance."
   ]
  },
  {
   "cell_type": "code",
   "execution_count": 23,
   "metadata": {},
   "outputs": [
    {
     "name": "stdout",
     "output_type": "stream",
     "text": [
      "Parameter containing:\n",
      "tensor([[ 9.8745e-03, -4.5884e-03,  8.2393e-03,  ...,  1.3202e-02,\n",
      "         -2.6832e-02, -6.6535e-04],\n",
      "        [ 3.1082e-04, -8.3111e-03,  1.5748e-03,  ...,  1.4406e-02,\n",
      "          2.2264e-02,  2.9671e-02],\n",
      "        [-3.3401e-02, -8.4824e-03, -2.9416e-02,  ...,  2.0684e-02,\n",
      "         -8.8618e-03, -1.0315e-02],\n",
      "        ...,\n",
      "        [ 3.1504e-02, -2.8848e-02, -3.0997e-02,  ...,  2.5585e-02,\n",
      "          2.9194e-02, -1.7458e-02],\n",
      "        [-3.5384e-02,  1.2262e-02,  3.2561e-02,  ..., -3.4627e-02,\n",
      "         -2.4261e-02, -1.5249e-02],\n",
      "        [ 2.1611e-02, -1.1055e-02, -2.4977e-04,  ...,  2.8508e-02,\n",
      "          1.6585e-02, -3.0088e-02]])\n",
      "Parameter containing:\n",
      "tensor(1.00000e-02 *\n",
      "       [ 0.3326,  3.3293,  3.1853, -1.8578, -3.1252, -0.1365,  0.7282,\n",
      "         2.7746, -3.2191, -0.0871,  0.3965,  2.7765,  2.8955, -0.5823,\n",
      "        -1.9357, -0.2627, -1.7545, -0.4321, -1.3551,  0.8519,  1.0345,\n",
      "        -0.6763,  0.5913,  1.7075, -2.1717, -1.4061, -0.1019,  0.6360,\n",
      "        -3.1706,  2.9160, -1.9685,  1.9941, -1.9234, -2.6443,  2.3112,\n",
      "        -1.3110,  3.3753, -0.5031,  3.4583,  2.3956, -0.4047,  3.3892,\n",
      "         0.9306, -0.5153,  1.6477,  1.5015,  2.4400, -3.1219,  1.2661,\n",
      "         3.1102,  2.0094, -0.4303,  1.7536, -1.3473, -0.7051, -0.4230,\n",
      "        -1.6940,  1.2299,  1.8188,  3.4263, -2.3801, -2.0290,  2.8396,\n",
      "         0.0042, -0.7381, -1.5640,  2.6555, -0.7475,  1.2449, -3.1185,\n",
      "         1.8507, -3.3568, -3.2186, -0.9427, -0.8012,  2.2368, -2.1988,\n",
      "        -0.4724,  2.4646,  2.2884, -0.3167,  0.5347,  1.3296,  3.0316,\n",
      "        -1.7770,  1.7475, -1.7227, -1.9053,  0.3939,  0.7165, -2.2964,\n",
      "        -2.1942, -2.8047,  1.9371,  3.4454,  3.1677,  2.1172, -0.3546,\n",
      "         1.9458, -1.9011,  0.8178, -1.5375,  0.7146, -3.3329,  1.0120,\n",
      "         1.3544,  1.3705,  3.0144,  0.4291, -2.4551,  2.6412,  2.5352,\n",
      "         2.1545,  3.4101, -0.7075, -1.4750, -0.6652, -2.8455,  1.3978,\n",
      "         0.4664, -0.2474, -2.6457, -2.8625,  3.0576, -1.2834, -2.7203,\n",
      "         3.0377,  2.9218])\n"
     ]
    }
   ],
   "source": [
    "# check the weights\n",
    "print(model.fc1.weight)\n",
    "print(model.fc1.bias)"
   ]
  },
  {
   "cell_type": "markdown",
   "metadata": {},
   "source": [
    "For custom initialization, we want to modify these tensors in place. These are actually autograd Variables, so we need to get back the actual tensors with model.fc1.weight.data. Once we have the tensors, we can fill them with zeros (for biases) or random normal values."
   ]
  },
  {
   "cell_type": "code",
   "execution_count": 24,
   "metadata": {},
   "outputs": [
    {
     "data": {
      "text/plain": [
       "tensor([ 0.,  0.,  0.,  0.,  0.,  0.,  0.,  0.,  0.,  0.,  0.,  0.,\n",
       "         0.,  0.,  0.,  0.,  0.,  0.,  0.,  0.,  0.,  0.,  0.,  0.,\n",
       "         0.,  0.,  0.,  0.,  0.,  0.,  0.,  0.,  0.,  0.,  0.,  0.,\n",
       "         0.,  0.,  0.,  0.,  0.,  0.,  0.,  0.,  0.,  0.,  0.,  0.,\n",
       "         0.,  0.,  0.,  0.,  0.,  0.,  0.,  0.,  0.,  0.,  0.,  0.,\n",
       "         0.,  0.,  0.,  0.,  0.,  0.,  0.,  0.,  0.,  0.,  0.,  0.,\n",
       "         0.,  0.,  0.,  0.,  0.,  0.,  0.,  0.,  0.,  0.,  0.,  0.,\n",
       "         0.,  0.,  0.,  0.,  0.,  0.,  0.,  0.,  0.,  0.,  0.,  0.,\n",
       "         0.,  0.,  0.,  0.,  0.,  0.,  0.,  0.,  0.,  0.,  0.,  0.,\n",
       "         0.,  0.,  0.,  0.,  0.,  0.,  0.,  0.,  0.,  0.,  0.,  0.,\n",
       "         0.,  0.,  0.,  0.,  0.,  0.,  0.,  0.])"
      ]
     },
     "execution_count": 24,
     "metadata": {},
     "output_type": "execute_result"
    }
   ],
   "source": [
    "# Set biases to all zeros\n",
    "model.fc1.bias.data.fill_(0)"
   ]
  },
  {
   "cell_type": "code",
   "execution_count": 25,
   "metadata": {},
   "outputs": [
    {
     "data": {
      "text/plain": [
       "tensor([[-2.2492e-03, -1.8367e-03, -1.7801e-03,  ...,  3.7893e-04,\n",
       "          5.0475e-03, -7.0642e-03],\n",
       "        [ 2.7050e-03,  1.3903e-02,  1.7600e-02,  ..., -4.5151e-03,\n",
       "         -1.6980e-02, -1.2187e-02],\n",
       "        [ 1.8386e-03, -6.1953e-03,  6.7064e-03,  ...,  1.2826e-03,\n",
       "          6.2323e-03, -1.3290e-03],\n",
       "        ...,\n",
       "        [ 1.8654e-02, -7.1839e-04, -2.5530e-03,  ...,  2.7090e-04,\n",
       "         -5.9473e-03,  4.4911e-03],\n",
       "        [-2.2728e-02, -4.5721e-04,  1.7787e-02,  ...,  7.1276e-03,\n",
       "         -7.2244e-03,  4.0436e-06],\n",
       "        [-5.9211e-03,  2.6129e-02, -1.1892e-02,  ...,  1.1314e-02,\n",
       "         -1.5624e-02,  1.3175e-02]])"
      ]
     },
     "execution_count": 25,
     "metadata": {},
     "output_type": "execute_result"
    }
   ],
   "source": [
    "# sample from random normal with standard dev = 0.01\n",
    "model.fc1.weight.data.normal_(std = 0.01)"
   ]
  },
  {
   "cell_type": "markdown",
   "metadata": {},
   "source": [
    "C. Forward pass\n",
    "\n",
    "Now that we have a network, let's see what happens when we pass in an image. This is called the forward pass. We're going to convert the image data into a tensor, then pass it through the operations defined by the network architecture."
   ]
  },
  {
   "cell_type": "code",
   "execution_count": 26,
   "metadata": {},
   "outputs": [
    {
     "data": {
      "image/png": "[encoded data removed]",
      "text/plain": [
       "<Figure size 432x648 with 2 Axes>"
      ]
     },
     "metadata": {
      "image/png": {
       "height": 224,
       "width": 423
      }
     },
     "output_type": "display_data"
    }
   ],
   "source": [
    "# Grab some data \n",
    "dataiter = iter(trainloader)\n",
    "images, labels = dataiter.next()\n",
    "\n",
    "# Resize images into a 1D vector, new shape is (batch size, color channels, image pixels) \n",
    "images.resize_(images.shape[0],images.shape[1], images.shape[2]*images.shape[3])\n",
    "\n",
    "# Forward pass through the network\n",
    "img_idx = 0\n",
    "# calculate the first image probability\n",
    "ps = model.forward(images[img_idx])\n",
    "\n",
    "# check what images[0] real data looks like\n",
    "img = images[img_idx]\n",
    "\n",
    "# see how our model predict for class probability\n",
    "# noticed that we never trained our model, so our predicted probability is across the board. No prediction at all!\n",
    "helper.view_classify(img.view(1, 28, 28), ps)"
   ]
  },
  {
   "cell_type": "markdown",
   "metadata": {},
   "source": [
    "### Important Note: \n",
    "As you can see above, our network has basically no idea what this digit is. It's because we haven't trained it yet, all the weights are random!"
   ]
  },
  {
   "cell_type": "markdown",
   "metadata": {},
   "source": [
    "<a id = 'secondmethod'></a>\n",
    "### Second method: Pytorch way to build a network without writing our own ###\n",
    "\n",
    "PyTorch provides a convenient way to build networks like this where a tensor is passed sequentially through operations, nn.Sequential. I will use this to build the equivalent network."
   ]
  },
  {
   "cell_type": "code",
   "execution_count": 27,
   "metadata": {},
   "outputs": [
    {
     "name": "stdout",
     "output_type": "stream",
     "text": [
      "Sequential(\n",
      "  (0): Linear(in_features=784, out_features=128, bias=True)\n",
      "  (1): ReLU()\n",
      "  (2): Linear(in_features=128, out_features=64, bias=True)\n",
      "  (3): ReLU()\n",
      "  (4): Linear(in_features=64, out_features=10, bias=True)\n",
      "  (5): Softmax()\n",
      ")\n"
     ]
    },
    {
     "data": {
      "image/png": "[encoded data removed]",
      "text/plain": [
       "<Figure size 432x648 with 2 Axes>"
      ]
     },
     "metadata": {
      "image/png": {
       "height": 224,
       "width": 423
      }
     },
     "output_type": "display_data"
    }
   ],
   "source": [
    "# Define Hyperparameters for our network\n",
    "\n",
    "input_size = 784 # input_size is each input image, what's their total pixel\n",
    "hidden_sizes = [128, 64] # the size of the layer we want our network to be\n",
    "output_size = 10 # final output size, we have 10 digits to predict, so final size is 10\n",
    "\n",
    "# Build a feed-forward network\n",
    "model = nn.Sequential(nn.Linear(input_size, hidden_sizes[0]),\n",
    "                      nn.ReLU(),\n",
    "                      nn.Linear(hidden_sizes[0], hidden_sizes[1]),\n",
    "                      nn.ReLU(),\n",
    "                      nn.Linear(hidden_sizes[1], output_size),\n",
    "                      nn.Softmax(dim=1))\n",
    "\n",
    "print(model)\n",
    "\n",
    "# Forward pass through the network and display output\n",
    "images, labels = next(iter(trainloader))\n",
    "images.resize_(images.shape[0], images.shape[1], images.shape[2]*images.shape[3])\n",
    "ps = model.forward(images[0])\n",
    "\n",
    "img = images[0]\n",
    "\n",
    "# when we use view, we need to convert back to the original format, the image is 28 * 28, so you need to resize it back \n",
    "# to 28 * 28\n",
    "helper.view_classify(images[0].view(1, 28, 28), ps)"
   ]
  },
  {
   "cell_type": "markdown",
   "metadata": {},
   "source": [
    "Example 2: Use `OrderDict` to build the network"
   ]
  },
  {
   "cell_type": "code",
   "execution_count": 28,
   "metadata": {},
   "outputs": [
    {
     "name": "stdout",
     "output_type": "stream",
     "text": [
      "Sequential(\n",
      "  (fc1): Linear(in_features=784, out_features=400, bias=True)\n",
      "  (relu1): ReLU()\n",
      "  (fc2): Linear(in_features=400, out_features=200, bias=True)\n",
      "  (relu2): ReLU()\n",
      "  (fc3): Linear(in_features=200, out_features=100, bias=True)\n",
      "  (relu3): ReLU()\n",
      "  (output): Linear(in_features=100, out_features=10, bias=True)\n",
      "  (softmax): Softmax()\n",
      ")\n"
     ]
    },
    {
     "data": {
      "image/png": "[encoded data removed]",
      "text/plain": [
       "<Figure size 432x648 with 2 Axes>"
      ]
     },
     "metadata": {
      "image/png": {
       "height": 224,
       "width": 423
      }
     },
     "output_type": "display_data"
    }
   ],
   "source": [
    "# example 2: let's try 3 different layer\n",
    "# Define Hyperparameters for our network\n",
    "input_size = 784\n",
    "hidden_layer = [400,200,100]\n",
    "outputs = 10\n",
    "\n",
    "# Build a feed-forward network\n",
    "from collections import OrderedDict\n",
    "model = nn.Sequential(OrderedDict([\n",
    "                     ('fc1', nn.Linear(input_size,hidden_layer[0])),\n",
    "                     ('relu1', nn.ReLU()),\n",
    "                     ('fc2', nn.Linear(hidden_layer[0], hidden_layer[1])),\n",
    "                     ('relu2', nn.ReLU()),\n",
    "                     ('fc3', nn.Linear(hidden_layer[1], hidden_layer[2])),\n",
    "                     ('relu3', nn.ReLU()),\n",
    "                     ('output', nn.Linear(hidden_layer[2], outputs)),\n",
    "                     ('softmax', nn.Softmax(dim=1))]))\n",
    "\n",
    "print(model)\n",
    "\n",
    "# forward pass through the network and display output\n",
    "images, labels = next(iter(trainloader))\n",
    "images.resize_(images.shape[0], images.shape[1], images.shape[2]*images.shape[3])\n",
    "\n",
    "ps = model.forward(images[0])\n",
    "\n",
    "# look at the image\n",
    "helper.view_classify(images[0].view(1, 28, 28), ps)\n"
   ]
  },
  {
   "cell_type": "markdown",
   "metadata": {},
   "source": [
    "### Note: \n",
    "\n",
    "Class probability has nothing to predict, because we haven't train the model yet! Next part, we are going to train the network."
   ]
  },
  {
   "cell_type": "code",
   "execution_count": null,
   "metadata": {},
   "outputs": [],
   "source": []
  }
 ],
 "metadata": {
  "kernelspec": {
   "display_name": "Python 3",
   "language": "python",
   "name": "python3"
  },
  "language_info": {
   "codemirror_mode": {
    "name": "ipython",
    "version": 3
   },
   "file_extension": ".py",
   "mimetype": "text/x-python",
   "name": "python",
   "nbconvert_exporter": "python",
   "pygments_lexer": "ipython3",
   "version": "3.6.5"
  }
 },
 "nbformat": 4,
 "nbformat_minor": 2
}
