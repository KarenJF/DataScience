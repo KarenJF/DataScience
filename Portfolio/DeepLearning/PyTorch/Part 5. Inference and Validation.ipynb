{
 "cells": [
  {
   "cell_type": "markdown",
   "metadata": {},
   "source": [
    "## Part 5: Inference and Validation\n",
    "\n",
    "Now that we have a trained network, we can use it for making predictions. This is typically called **inference**, a term borrowed from statistics. However, neural networks have a tendency to perform *too well* on the training data and aren't able to generalize to data that hasn't been seen before. This is called **overfitting** and it impairs inference performance. To test for overfitting while training, we measure the performance on data not in the training set called the **validation** dataset. We avoid overfitting through regularization such as dropout while monitoring the validation performance during training. \n",
    "\n",
    "We will perform the steps as before to build and train a network: \n",
    "* [Background Knowledge](#background)\n",
    "* [Load a dataset](#load)\n",
    "* [Build a Network](#build)\n",
    "* [Train a Netwrok](#train)\n",
    "* [Inference](#inference)"
   ]
  },
  {
   "cell_type": "markdown",
   "metadata": {},
   "source": [
    "<a id = 'background'></a>\n",
    "## Build A Slightly Advanced Network\n",
    "\n",
    "As with MNIST, each image in Fashion-MNIST is 28x28 which is a total of 784 pixels, and there are 10 classes. I want to automate a bit, I want to be able to build a network with an arbitrary number of hidden layers. That is, I want to pass in a parameter like `hidden_layers = [512, 256, 128]` and the network is contructed with three hidden layers have 512, 256, and 128 units respectively. To do this, I'll use `nn.ModuleList` to allow for an arbitrary number of hidden layers. Using `nn.ModuleList` works pretty much the same as a normal Python list, except that it registers each hidden layer `Linear` module properly so the model is aware of the layers.\n",
    "\n",
    "The issue here is I need a way to define each `nn.Linear` module with the appropriate layer sizes. Since each `nn.Linear` operation needs an input size and an output size, I need something that looks like this:\n",
    "\n",
    "```python\n",
    "# Create ModuleList and add input layer\n",
    "hidden_layers = nn.ModuleList([nn.Linear(input_size, hidden_layers[0])])\n",
    "# Add hidden layers to the ModuleList\n",
    "hidden_layers.extend([nn.Linear(h1, h2) for h1, h2 in layer_sizes])\n",
    "```\n",
    "\n",
    "Getting these pairs of input and output sizes can be done with a handy trick using `zip`.\n",
    "\n",
    "```python\n",
    "hidden_layers = [512, 256, 128, 64]\n",
    "layer_sizes = zip(hidden_layers[:-1], hidden_layers[1:])\n",
    "for each in layer_sizes:\n",
    "    print(each)\n",
    "\n",
    ">> (512, 256)\n",
    ">> (256, 128)\n",
    ">> (128, 64)\n",
    "```\n",
    "\n",
    "I also have the `forward` method returning the log-softmax for the output. Since softmax is a probability distibution over the classes, the log-softmax is a log probability which comes with a [lot of benefits](https://en.wikipedia.org/wiki/Log_probability). Using the log probability, computations are often faster and more accurate. To get the class probabilities later, I'll need to take the exponential (`torch.exp`) of the output. Algebra refresher... the exponential function is the inverse of the log function:\n",
    "\n",
    "$$ \\large{e^{\\ln{x}} = x }$$\n",
    "\n",
    "We can include dropout in our network with [`nn.Dropout`](http://pytorch.org/docs/master/nn.html#dropout). This works similar to other modules such as `nn.Linear`. It also takes the dropout probability as an input which we can pass as an input to the network."
   ]
  },
  {
   "cell_type": "code",
   "execution_count": 2,
   "metadata": {},
   "outputs": [],
   "source": [
    "# import some libarary\n",
    "\n",
    "%matplotlib inline\n",
    "%config InlineBackend.figure_format = 'retina'\n",
    "\n",
    "import matplotlib.pyplot as plt\n",
    "import numpy as np\n",
    "import time\n",
    "\n",
    "import torch \n",
    "from torch import nn\n",
    "from torch import optim\n",
    "import torch.nn.functional as F\n",
    "from collections import OrderedDict\n",
    "\n",
    "from torchvision import datasets, transforms\n",
    "import helper"
   ]
  },
  {
   "cell_type": "markdown",
   "metadata": {},
   "source": [
    "<a id = 'load'></a>\n",
    "## Load a Dataset"
   ]
  },
  {
   "cell_type": "code",
   "execution_count": 3,
   "metadata": {},
   "outputs": [],
   "source": [
    "# Define a transform to normalize the data\n",
    "transform = transforms.Compose([transforms.ToTensor(),\n",
    "                                transforms.Normalize((0.5,0.5,0.5),(0.5,0.5,0.5))])\n",
    "\n",
    "# Download and load the training data\n",
    "trainset = datasets.FashionMNIST('F_MNIST_data/', download = True, train = True, transform=transform)\n",
    "trainloader = torch.utils.data.DataLoader(trainset, batch_size = 64, shuffle=True)\n",
    "\n",
    "# Download and load the testing data\n",
    "testset = datasets.FashionMNIST('F_MNIST_data/', download = True, train = False, transform = transform)\n",
    "testloader = torch.utils.data.DataLoader(testset, batch_size = 64, shuffle = True)"
   ]
  },
  {
   "cell_type": "markdown",
   "metadata": {},
   "source": [
    "<a id = 'build'></a>\n",
    "## Build a Network"
   ]
  },
  {
   "cell_type": "code",
   "execution_count": 4,
   "metadata": {},
   "outputs": [],
   "source": [
    "class Network(nn.Module):\n",
    "    def __init__(self, input_size, output_size, hidden_layers, drop_p=0.5):\n",
    "        ''' Builds a feedforward network with arbitrary hidden layers.\n",
    "        \n",
    "            Arguments\n",
    "            ---------\n",
    "            input_size: integer, size of the input\n",
    "            output_size: integer, size of the output layer\n",
    "            hidden_layers: list of integers, the sizes of the hidden layers\n",
    "            drop_p: float between 0 and 1, dropout probability\n",
    "        '''\n",
    "        super().__init__()\n",
    "        # Add the first layer, input to a hidden layer\n",
    "        self.hidden_layers = nn.ModuleList([nn.Linear(input_size, hidden_layers[0])])\n",
    "        \n",
    "        # Add a variable number of more hidden layers\n",
    "        layer_sizes = zip(hidden_layers[:-1], hidden_layers[1:])\n",
    "        self.hidden_layers.extend([nn.Linear(h1, h2) for h1, h2 in layer_sizes])\n",
    "        \n",
    "        self.output = nn.Linear(hidden_layers[-1], output_size)\n",
    "        \n",
    "        self.dropout = nn.Dropout(p=drop_p)\n",
    "        \n",
    "    def forward(self, x):\n",
    "        ''' Forward pass through the network, returns the output logits '''\n",
    "        \n",
    "        # Forward through each layer in `hidden_layers`, with ReLU activation and dropout\n",
    "        for linear in self.hidden_layers:\n",
    "            x = F.relu(linear(x))\n",
    "            x = self.dropout(x)\n",
    "        \n",
    "        x = self.output(x)\n",
    "        \n",
    "        return F.log_softmax(x, dim=1)"
   ]
  },
  {
   "cell_type": "code",
   "execution_count": 5,
   "metadata": {},
   "outputs": [
    {
     "data": {
      "text/plain": [
       "128"
      ]
     },
     "execution_count": 5,
     "metadata": {},
     "output_type": "execute_result"
    }
   ],
   "source": [
    "hidden_layers=[516,256,128]\n",
    "hidden_layers[-1]"
   ]
  },
  {
   "cell_type": "markdown",
   "metadata": {},
   "source": [
    "<a id = 'train'></a>\n",
    "# Train the network\n",
    "\n",
    "Since the model's forward method returns the log-softmax, I used the [negative log loss](http://pytorch.org/docs/master/nn.html#nllloss) as my criterion, `nn.NLLLoss()`. I also chose to use the [Adam optimizer](http://pytorch.org/docs/master/optim.html#torch.optim.Adam). This is a variant of stochastic gradient descent which includes momentum and in general trains faster than your basic SGD.\n",
    "\n",
    "I've also included a block to measure the validation loss and accuracy. Since I'm using dropout in the network, I need to turn it off during inference. Otherwise, the network will appear to perform poorly because many of the connections are turned off. PyTorch allows you to set a model in \"training\" or \"evaluation\" modes with `model.train()` and `model.eval()`, respectively. In training mode, dropout is turned on, while in evaluation mode, dropout is turned off. This effects other modules as well that should be on during training but off during inference.\n",
    "\n",
    "The validation code consists of a forward pass through the validation set (also split into batches). With the log-softmax output, I calculate the loss on the validation set, as well as the prediction accuracy."
   ]
  },
  {
   "cell_type": "code",
   "execution_count": 6,
   "metadata": {},
   "outputs": [],
   "source": [
    "# Create the network, define the criterion and optimizer\n",
    "model = Network(input_size=784, hidden_layers=[516,256,128], output_size= 10, drop_p = 0.5)\n",
    "criterion = nn.NLLLoss()\n",
    "optimizer = optim.Adam(model.parameters(), lr = 0.001)"
   ]
  },
  {
   "cell_type": "code",
   "execution_count": 7,
   "metadata": {},
   "outputs": [
    {
     "data": {
      "text/plain": [
       "<bound method Module.parameters of Network(\n",
       "  (hidden_layers): ModuleList(\n",
       "    (0): Linear(in_features=784, out_features=516, bias=True)\n",
       "    (1): Linear(in_features=516, out_features=256, bias=True)\n",
       "    (2): Linear(in_features=256, out_features=128, bias=True)\n",
       "  )\n",
       "  (output): Linear(in_features=128, out_features=10, bias=True)\n",
       "  (dropout): Dropout(p=0.5)\n",
       ")>"
      ]
     },
     "execution_count": 7,
     "metadata": {},
     "output_type": "execute_result"
    }
   ],
   "source": [
    "model.parameters"
   ]
  },
  {
   "cell_type": "code",
   "execution_count": 8,
   "metadata": {},
   "outputs": [],
   "source": [
    "# craete a validation function\n",
    "def validatation(model, testloader, criterion):\n",
    "    test_loss = 0\n",
    "    accuracy = 0\n",
    "    \n",
    "    for images, labels in iter(testloader):\n",
    "        images.resize_(images.size(0),784)\n",
    "        \n",
    "        output = model.forward(images)\n",
    "        test_loss = criterion(output, labels).item()\n",
    "        \n",
    "        ps = torch.exp(output)\n",
    "        equality = (labels.data == ps.max(dim=1)[1])\n",
    "        accuracy += equality.type(torch.FloatTensor).mean()\n",
    "        \n",
    "    return test_loss, accuracy"
   ]
  },
  {
   "cell_type": "code",
   "execution_count": 9,
   "metadata": {},
   "outputs": [
    {
     "name": "stdout",
     "output_type": "stream",
     "text": [
      "Epoch: 1/3.. Training loss: 1.7370.. Test loss: 0.0053.. Test Accuracy: 0.5949..\n",
      "Epoch: 1/3.. Training loss: 1.0612.. Test loss: 0.0065.. Test Accuracy: 0.6940..\n",
      "Epoch: 1/3.. Training loss: 0.8635.. Test loss: 0.0022.. Test Accuracy: 0.7457..\n",
      "Epoch: 1/3.. Training loss: 0.8015.. Test loss: 0.0032.. Test Accuracy: 0.7473..\n",
      "Epoch: 1/3.. Training loss: 0.7419.. Test loss: 0.0047.. Test Accuracy: 0.7726..\n",
      "Epoch: 1/3.. Training loss: 0.7151.. Test loss: 0.0022.. Test Accuracy: 0.7725..\n",
      "Epoch: 1/3.. Training loss: 0.7217.. Test loss: 0.0042.. Test Accuracy: 0.7814..\n",
      "Epoch: 1/3.. Training loss: 0.6743.. Test loss: 0.0052.. Test Accuracy: 0.7729..\n",
      "Epoch: 1/3.. Training loss: 0.6662.. Test loss: 0.0026.. Test Accuracy: 0.7988..\n",
      "Epoch: 1/3.. Training loss: 0.6323.. Test loss: 0.0039.. Test Accuracy: 0.8039..\n",
      "Epoch: 1/3.. Training loss: 0.6296.. Test loss: 0.0064.. Test Accuracy: 0.8014..\n",
      "Epoch: 1/3.. Training loss: 0.6437.. Test loss: 0.0034.. Test Accuracy: 0.8059..\n",
      "Epoch: 1/3.. Training loss: 0.6501.. Test loss: 0.0023.. Test Accuracy: 0.8144..\n",
      "Epoch: 1/3.. Training loss: 0.5673.. Test loss: 0.0033.. Test Accuracy: 0.8133..\n",
      "Epoch: 1/3.. Training loss: 0.6043.. Test loss: 0.0027.. Test Accuracy: 0.8065..\n",
      "Epoch: 1/3.. Training loss: 0.5715.. Test loss: 0.0034.. Test Accuracy: 0.8140..\n",
      "Epoch: 1/3.. Training loss: 0.5561.. Test loss: 0.0041.. Test Accuracy: 0.8239..\n",
      "Epoch: 1/3.. Training loss: 0.5683.. Test loss: 0.0037.. Test Accuracy: 0.8106..\n",
      "Epoch: 1/3.. Training loss: 0.5140.. Test loss: 0.0043.. Test Accuracy: 0.8089..\n",
      "Epoch: 1/3.. Training loss: 0.5745.. Test loss: 0.0035.. Test Accuracy: 0.8242..\n",
      "Epoch: 1/3.. Training loss: 0.5848.. Test loss: 0.0009.. Test Accuracy: 0.8255..\n",
      "Epoch: 1/3.. Training loss: 0.5900.. Test loss: 0.0036.. Test Accuracy: 0.8243..\n",
      "Epoch: 1/3.. Training loss: 0.5683.. Test loss: 0.0027.. Test Accuracy: 0.8307..\n",
      "Epoch: 2/3.. Training loss: 0.6022.. Test loss: 0.0049.. Test Accuracy: 0.8235..\n",
      "Epoch: 2/3.. Training loss: 0.5267.. Test loss: 0.0032.. Test Accuracy: 0.8240..\n",
      "Epoch: 2/3.. Training loss: 0.5154.. Test loss: 0.0023.. Test Accuracy: 0.8305..\n",
      "Epoch: 2/3.. Training loss: 0.5532.. Test loss: 0.0017.. Test Accuracy: 0.8240..\n",
      "Epoch: 2/3.. Training loss: 0.5601.. Test loss: 0.0022.. Test Accuracy: 0.8322..\n",
      "Epoch: 2/3.. Training loss: 0.5247.. Test loss: 0.0030.. Test Accuracy: 0.8297..\n",
      "Epoch: 2/3.. Training loss: 0.5638.. Test loss: 0.0046.. Test Accuracy: 0.8249..\n",
      "Epoch: 2/3.. Training loss: 0.5750.. Test loss: 0.0098.. Test Accuracy: 0.8296..\n",
      "Epoch: 2/3.. Training loss: 0.5468.. Test loss: 0.0020.. Test Accuracy: 0.8323..\n",
      "Epoch: 2/3.. Training loss: 0.5544.. Test loss: 0.0021.. Test Accuracy: 0.8289..\n",
      "Epoch: 2/3.. Training loss: 0.5094.. Test loss: 0.0026.. Test Accuracy: 0.8179..\n",
      "Epoch: 2/3.. Training loss: 0.5156.. Test loss: 0.0009.. Test Accuracy: 0.8348..\n",
      "Epoch: 2/3.. Training loss: 0.5019.. Test loss: 0.0035.. Test Accuracy: 0.8358..\n",
      "Epoch: 2/3.. Training loss: 0.5128.. Test loss: 0.0034.. Test Accuracy: 0.8332..\n",
      "Epoch: 2/3.. Training loss: 0.5181.. Test loss: 0.0020.. Test Accuracy: 0.8357..\n",
      "Epoch: 2/3.. Training loss: 0.5267.. Test loss: 0.0019.. Test Accuracy: 0.8392..\n",
      "Epoch: 2/3.. Training loss: 0.5387.. Test loss: 0.0026.. Test Accuracy: 0.8368..\n",
      "Epoch: 2/3.. Training loss: 0.4861.. Test loss: 0.0030.. Test Accuracy: 0.8418..\n",
      "Epoch: 2/3.. Training loss: 0.4706.. Test loss: 0.0022.. Test Accuracy: 0.8431..\n",
      "Epoch: 2/3.. Training loss: 0.5053.. Test loss: 0.0026.. Test Accuracy: 0.8354..\n",
      "Epoch: 2/3.. Training loss: 0.5225.. Test loss: 0.0009.. Test Accuracy: 0.8299..\n",
      "Epoch: 2/3.. Training loss: 0.5147.. Test loss: 0.0028.. Test Accuracy: 0.8342..\n",
      "Epoch: 2/3.. Training loss: 0.4926.. Test loss: 0.0034.. Test Accuracy: 0.8352..\n",
      "Epoch: 3/3.. Training loss: 0.5360.. Test loss: 0.0036.. Test Accuracy: 0.8407..\n",
      "Epoch: 3/3.. Training loss: 0.5026.. Test loss: 0.0043.. Test Accuracy: 0.8428..\n",
      "Epoch: 3/3.. Training loss: 0.4946.. Test loss: 0.0018.. Test Accuracy: 0.8481..\n",
      "Epoch: 3/3.. Training loss: 0.5151.. Test loss: 0.0019.. Test Accuracy: 0.8441..\n",
      "Epoch: 3/3.. Training loss: 0.5398.. Test loss: 0.0036.. Test Accuracy: 0.8441..\n",
      "Epoch: 3/3.. Training loss: 0.5191.. Test loss: 0.0034.. Test Accuracy: 0.8394..\n",
      "Epoch: 3/3.. Training loss: 0.5395.. Test loss: 0.0028.. Test Accuracy: 0.8427..\n",
      "Epoch: 3/3.. Training loss: 0.4719.. Test loss: 0.0036.. Test Accuracy: 0.8313..\n",
      "Epoch: 3/3.. Training loss: 0.4788.. Test loss: 0.0037.. Test Accuracy: 0.8400..\n",
      "Epoch: 3/3.. Training loss: 0.4965.. Test loss: 0.0019.. Test Accuracy: 0.8352..\n",
      "Epoch: 3/3.. Training loss: 0.5049.. Test loss: 0.0017.. Test Accuracy: 0.8440..\n",
      "Epoch: 3/3.. Training loss: 0.4918.. Test loss: 0.0031.. Test Accuracy: 0.8399..\n",
      "Epoch: 3/3.. Training loss: 0.5024.. Test loss: 0.0023.. Test Accuracy: 0.8418..\n",
      "Epoch: 3/3.. Training loss: 0.4515.. Test loss: 0.0018.. Test Accuracy: 0.8371..\n",
      "Epoch: 3/3.. Training loss: 0.4651.. Test loss: 0.0059.. Test Accuracy: 0.8454..\n",
      "Epoch: 3/3.. Training loss: 0.4867.. Test loss: 0.0022.. Test Accuracy: 0.8371..\n",
      "Epoch: 3/3.. Training loss: 0.5381.. Test loss: 0.0041.. Test Accuracy: 0.8405..\n",
      "Epoch: 3/3.. Training loss: 0.4724.. Test loss: 0.0015.. Test Accuracy: 0.8453..\n",
      "Epoch: 3/3.. Training loss: 0.4660.. Test loss: 0.0055.. Test Accuracy: 0.8483..\n",
      "Epoch: 3/3.. Training loss: 0.4904.. Test loss: 0.0033.. Test Accuracy: 0.8459..\n",
      "Epoch: 3/3.. Training loss: 0.5120.. Test loss: 0.0055.. Test Accuracy: 0.8408..\n",
      "Epoch: 3/3.. Training loss: 0.4826.. Test loss: 0.0026.. Test Accuracy: 0.8493..\n",
      "Epoch: 3/3.. Training loss: 0.4801.. Test loss: 0.0018.. Test Accuracy: 0.8437..\n",
      "Epoch: 3/3.. Training loss: 0.4715.. Test loss: 0.0021.. Test Accuracy: 0.8465..\n"
     ]
    }
   ],
   "source": [
    "# train the network \n",
    "epochs = 3\n",
    "steps = 0\n",
    "running_loss = 0\n",
    "print_every = 40 \n",
    "\n",
    "for e in range(epochs):\n",
    "    model.train()\n",
    "    \n",
    "    for images, labels in iter(trainloader):\n",
    "        steps += 1\n",
    "        \n",
    "        # Flatten the images size\n",
    "        images.resize_(images.size(0), 784)\n",
    "        \n",
    "        optimizer.zero_grad()\n",
    "        \n",
    "        output = model.forward(images)\n",
    "        loss = criterion(output, labels)\n",
    "        loss.backward()\n",
    "        optimizer.step()\n",
    "        \n",
    "        running_loss += loss.item()\n",
    "        \n",
    "        if steps % print_every == 0:\n",
    "            \n",
    "            # Make sure network is in eval mode for inference\n",
    "            model.eval()\n",
    "            \n",
    "            # Turn off gradients for validation, saves memory and computations\n",
    "            with torch.no_grad():\n",
    "                test_loss, accuracy = validatation(model, testloader, criterion)\n",
    "            \n",
    "            print(\"Epoch: {}/{}..\".format(e+1, epochs), \n",
    "                  \"Training loss: {:.4f}..\".format(running_loss/print_every), \n",
    "                  \"Test loss: {:.4f}..\".format(test_loss/len(testloader)),\n",
    "                  \"Test Accuracy: {:.4f}..\".format(accuracy/len(testloader)))\n",
    "            \n",
    "            running_loss = 0\n",
    "            \n",
    "            # Make sure training is back on\n",
    "            model.train()\n",
    "        "
   ]
  },
  {
   "cell_type": "markdown",
   "metadata": {},
   "source": [
    "<a id = 'inference'></a>\n",
    "## Inference\n",
    "\n",
    "Now that the model is trained, we can use it for inference. We've done this before, but now we need to remember to set the model in inference mode with `model.eval()`. We'll also want to turn off autograd with the `torch.no_grad()` context to save time. "
   ]
  },
  {
   "cell_type": "code",
   "execution_count": 10,
   "metadata": {},
   "outputs": [
    {
     "data": {
      "image/png": "[encoded data removed]",
      "text/plain": [
       "<Figure size 432x648 with 2 Axes>"
      ]
     },
     "metadata": {
      "image/png": {
       "height": 204,
       "width": 423
      }
     },
     "output_type": "display_data"
    }
   ],
   "source": [
    "# test the network \n",
    "model.eval()\n",
    "images, labels = next(iter(testloader))\n",
    "\n",
    "# get one test image\n",
    "img =images[0]\n",
    "#convert 2D image to 1D vector\n",
    "img = img.resize_(1,784)\n",
    "\n",
    "with torch.no_grad():\n",
    "    output = model.forward(img)\n",
    "    \n",
    "ps = torch.exp(output)\n",
    "\n",
    "# Plot the image and probabilities\n",
    "helper.view_classify(img.view(1, 28, 28), ps, version='Fashion')"
   ]
  },
  {
   "cell_type": "markdown",
   "metadata": {},
   "source": [
    "Nice! We once again build a even flexible, complicated network than before, and the result looks fairly accurate."
   ]
  },
  {
   "cell_type": "code",
   "execution_count": null,
   "metadata": {},
   "outputs": [],
   "source": []
  }
 ],
 "metadata": {
  "kernelspec": {
   "display_name": "Python 3",
   "language": "python",
   "name": "python3"
  },
  "language_info": {
   "codemirror_mode": {
    "name": "ipython",
    "version": 3
   },
   "file_extension": ".py",
   "mimetype": "text/x-python",
   "name": "python",
   "nbconvert_exporter": "python",
   "pygments_lexer": "ipython3",
   "version": "3.6.5"
  }
 },
 "nbformat": 4,
 "nbformat_minor": 2
}
