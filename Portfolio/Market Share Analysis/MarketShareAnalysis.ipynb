{
 "cells": [
  {
   "cell_type": "markdown",
   "metadata": {},
   "source": [
    "** Scenario: ** You are contracted by a Westeros software developer with a\n",
    "Health and Wellness app looking to break into the Essos market. Based\n",
    "on the provided data set your objective is to advise the client on the\n",
    "following:\n",
    "\n",
    "1. Who are the current market leaders in the Health and Wellness category and why are they successful? HINT: what metrics support your findings?\n",
    "2. What market segments should your client target? The client is interested in opportunities presented in targeting based on location, current app usage behaviors, phone brand, and other demographic information available. HINT: do not limit yourself to counts and histograms.\n",
    "3. The client is interested in partnering with apps outside the Health and Wellness space to drive cross promotion. Where are the biggest opportunities? Please create some short bullet points to support the recommendation in both data science and business contexts.\n",
    "\n",
    "** Guidelines: **\n",
    "\n",
    "1. The response should include a write-up and your code:\n",
    "\n",
    "    a. Please write up your findings as if you were going to present your findings and recommendations to a client.\n",
    "    \n",
    "    b. Your code should be sufficient to justify and reproduce your findings. Your code should be well commented and flow logically (include dead ends, technical notes, etc.)  A junior team member should be able to understand the choices you make.\n",
    "    \n",
    "2. Feel free to make high level assumptions but be sure to explain them.\n",
    "\n",
    "3. The response should not take too long. There is no hard deadline but we are not looking for a thesis level response; quick and dirty results are good (but sloppy is not).\n",
    "\n",
    "4. The response code should be in R, Python or Spark (any dialect).\n",
    "\n",
    "5. Please do not make this challenge or your response public.\n",
    "\n",
    "6. Cite any work or code that influences your response.\n",
    "\n",
    "7. Please do not spend more than 6 hours on this project"
   ]
  },
  {
   "cell_type": "markdown",
   "metadata": {},
   "source": [
    "# Data and Setup"
   ]
  },
  {
   "cell_type": "code",
   "execution_count": 3,
   "metadata": {
    "collapsed": true
   },
   "outputs": [],
   "source": [
    "import pandas as pd\n",
    "import numpy as np\n",
    "import sqlite3\n",
    "\n",
    "# Import visualization libraries \n",
    "import matplotlib.pyplot as plt\n",
    "import seaborn as sns\n",
    "%matplotlib inline\n",
    "\n",
    "from mpl_toolkits.basemap import Basemap"
   ]
  },
  {
   "cell_type": "code",
   "execution_count": 4,
   "metadata": {
    "collapsed": true
   },
   "outputs": [],
   "source": [
    "# Import dataset\n",
    "app = pd.read_csv(\"app_event_category.csv\", dtype = {'event_id': np.str, 'app_id': np.str})\n",
    "event = pd.read_csv('events.csv',dtype={'device_id': np.str,'event_id': np.str})\n",
    "user = pd.read_csv(\"gender_age_brand.csv\",dtype = {'device_id': np.str})"
   ]
  },
  {
   "cell_type": "code",
   "execution_count": 5,
   "metadata": {
    "collapsed": true
   },
   "outputs": [],
   "source": [
    "# Create SQL database for easy query\n",
    "# only run once then comment out\n",
    "# The following is to create the sql database to store the 3 csv files. \n",
    "\n",
    "#connex = sqlite3.connect(\"database.db\")  # Opens file if exists, else creates file\n",
    "#cur = connex.cursor()  # This object lets us actually send messages to our DB and receive results\n",
    "\n",
    "#app.to_sql(name=\"app\", con=connex, if_exists=\"append\", index=False) \n",
    "\n",
    "#event.to_sql(name=\"event\", con=connex, if_exists=\"append\", index=False) \n",
    "\n",
    "#user.to_sql(name=\"user\", con=connex, if_exists=\"append\", index=False) "
   ]
  },
  {
   "cell_type": "code",
   "execution_count": 6,
   "metadata": {
    "collapsed": true
   },
   "outputs": [],
   "source": [
    "# locate the SQL database \n",
    "# create function to read the database\n",
    "db = 'database.db'\n",
    "\n",
    "def run_query(sql):\n",
    "    with sqlite3.connect(db) as conn:\n",
    "        return pd.read_sql(sql, conn)\n"
   ]
  },
  {
   "cell_type": "markdown",
   "metadata": {},
   "source": [
    "** 1. Who are the current market leaders in the Health and Wellness category and why are they successful? HINT: what metrics support your findings? **\n",
    "\n",
    "a. Define current market leaders in Health and Wellness: The ones with the highest active unique users\n",
    "\n",
    "The metrics I use to determine market leaders are: \n",
    "1. They have the most active usage\n",
    "2. They have the most unique users, that's the unique devices that have the app installed"
   ]
  },
  {
   "cell_type": "code",
   "execution_count": 7,
   "metadata": {},
   "outputs": [
    {
     "name": "stdout",
     "output_type": "stream",
     "text": [
      "\n",
      "    SELECT \n",
      "        app_category, \n",
      "        app_id,\n",
      "        sum(is_active),\n",
      "        count(distinct device_id)\n",
      "    from app\n",
      "    inner join event \n",
      "    on app.event_id = event.event_id\n",
      "    where app_category = 'Health and Wellness' and \n",
      "          is_installed = 1 and \n",
      "          is_active = 1\n",
      "    group by \n",
      "        app_category, \n",
      "        app_id\n",
      "    order by \n",
      "        count(distinct device_id) desc;\n",
      "\n"
     ]
    }
   ],
   "source": [
    "# Find the app_id with highest active counts: \n",
    "# app_category = 'Health and Wellness'\n",
    "# is_active = 1 to make sure the app is currently active\n",
    "# is_installed = 1 to make sure the app is currently being installed\n",
    "\n",
    "sql = '''\n",
    "    SELECT \n",
    "        app_category, \n",
    "        app_id,\n",
    "        sum(is_active),\n",
    "        count(distinct device_id)\n",
    "    from app\n",
    "    inner join event \n",
    "    on app.event_id = event.event_id\n",
    "    where app_category = 'Health and Wellness' and \n",
    "          is_installed = 1 and \n",
    "          is_active = 1\n",
    "    group by \n",
    "        app_category, \n",
    "        app_id\n",
    "    order by \n",
    "        count(distinct device_id) desc;\n",
    "'''\n",
    "\n",
    "print(sql)"
   ]
  },
  {
   "cell_type": "code",
   "execution_count": 8,
   "metadata": {},
   "outputs": [
    {
     "data": {
      "text/html": [
       "<div>\n",
       "<style scoped>\n",
       "    .dataframe tbody tr th:only-of-type {\n",
       "        vertical-align: middle;\n",
       "    }\n",
       "\n",
       "    .dataframe tbody tr th {\n",
       "        vertical-align: top;\n",
       "    }\n",
       "\n",
       "    .dataframe thead th {\n",
       "        text-align: right;\n",
       "    }\n",
       "</style>\n",
       "<table border=\"1\" class=\"dataframe\">\n",
       "  <thead>\n",
       "    <tr style=\"text-align: right;\">\n",
       "      <th></th>\n",
       "      <th>app_category</th>\n",
       "      <th>app_id</th>\n",
       "      <th>sum(is_active)</th>\n",
       "      <th>count(distinct device_id)</th>\n",
       "    </tr>\n",
       "  </thead>\n",
       "  <tbody>\n",
       "    <tr>\n",
       "      <th>0</th>\n",
       "      <td>Health and Wellness</td>\n",
       "      <td>1088227414300337900</td>\n",
       "      <td>39943</td>\n",
       "      <td>5356</td>\n",
       "    </tr>\n",
       "    <tr>\n",
       "      <th>1</th>\n",
       "      <td>Health and Wellness</td>\n",
       "      <td>3683147815759994238</td>\n",
       "      <td>42951</td>\n",
       "      <td>4687</td>\n",
       "    </tr>\n",
       "    <tr>\n",
       "      <th>2</th>\n",
       "      <td>Health and Wellness</td>\n",
       "      <td>6868430133575209713</td>\n",
       "      <td>33814</td>\n",
       "      <td>2686</td>\n",
       "    </tr>\n",
       "    <tr>\n",
       "      <th>3</th>\n",
       "      <td>Health and Wellness</td>\n",
       "      <td>-1633887856876571208</td>\n",
       "      <td>31330</td>\n",
       "      <td>2243</td>\n",
       "    </tr>\n",
       "    <tr>\n",
       "      <th>4</th>\n",
       "      <td>Health and Wellness</td>\n",
       "      <td>-974457023668610292</td>\n",
       "      <td>23821</td>\n",
       "      <td>1743</td>\n",
       "    </tr>\n",
       "    <tr>\n",
       "      <th>5</th>\n",
       "      <td>Health and Wellness</td>\n",
       "      <td>5909705644131785817</td>\n",
       "      <td>27706</td>\n",
       "      <td>1568</td>\n",
       "    </tr>\n",
       "    <tr>\n",
       "      <th>6</th>\n",
       "      <td>Health and Wellness</td>\n",
       "      <td>6666573790957269996</td>\n",
       "      <td>13107</td>\n",
       "      <td>1119</td>\n",
       "    </tr>\n",
       "    <tr>\n",
       "      <th>7</th>\n",
       "      <td>Health and Wellness</td>\n",
       "      <td>-653184325010919369</td>\n",
       "      <td>5482</td>\n",
       "      <td>1067</td>\n",
       "    </tr>\n",
       "    <tr>\n",
       "      <th>8</th>\n",
       "      <td>Health and Wellness</td>\n",
       "      <td>-4986139885405704</td>\n",
       "      <td>25904</td>\n",
       "      <td>980</td>\n",
       "    </tr>\n",
       "    <tr>\n",
       "      <th>9</th>\n",
       "      <td>Health and Wellness</td>\n",
       "      <td>-3507529970483852351</td>\n",
       "      <td>9762</td>\n",
       "      <td>965</td>\n",
       "    </tr>\n",
       "  </tbody>\n",
       "</table>\n",
       "</div>"
      ],
      "text/plain": [
       "          app_category                app_id  sum(is_active)  \\\n",
       "0  Health and Wellness   1088227414300337900           39943   \n",
       "1  Health and Wellness   3683147815759994238           42951   \n",
       "2  Health and Wellness   6868430133575209713           33814   \n",
       "3  Health and Wellness  -1633887856876571208           31330   \n",
       "4  Health and Wellness   -974457023668610292           23821   \n",
       "5  Health and Wellness   5909705644131785817           27706   \n",
       "6  Health and Wellness   6666573790957269996           13107   \n",
       "7  Health and Wellness   -653184325010919369            5482   \n",
       "8  Health and Wellness     -4986139885405704           25904   \n",
       "9  Health and Wellness  -3507529970483852351            9762   \n",
       "\n",
       "   count(distinct device_id)  \n",
       "0                       5356  \n",
       "1                       4687  \n",
       "2                       2686  \n",
       "3                       2243  \n",
       "4                       1743  \n",
       "5                       1568  \n",
       "6                       1119  \n",
       "7                       1067  \n",
       "8                        980  \n",
       "9                        965  "
      ]
     },
     "execution_count": 8,
     "metadata": {},
     "output_type": "execute_result"
    }
   ],
   "source": [
    "# Show the current top 10 market leaders in Health and Wellness\n",
    "run_query(sql).head(10)"
   ]
  },
  {
   "cell_type": "markdown",
   "metadata": {},
   "source": [
    "** 2.What market segments should your client target? The client is interested in opportunities presented in targeting based on location, current app usage behaviors, phone brand, and other demographic information available. HINT: do not limit yourself to counts and histograms. ** \n",
    "\n",
    "For Health and Wellness app category, check the followings to see what market segments like to use Health and Wellness app: "
   ]
  },
  {
   "cell_type": "markdown",
   "metadata": {},
   "source": [
    "** a. Location: For users have Health and Wellness app installed, where are they located?**\n",
    "- Checking the Health and Wellness Apps unique user usage by location below, we saw that China has the most active unique users in using Health and Wellness apps. \n",
    "- There are some dots in the middel of the map, with longitute = 0 and latitute = 0. I think those are the users who don't want to share their location. Based on the volume, it's very small. \n",
    "- Still conclude that China has the most active uniuqe users in using Health and Wellness app."
   ]
  },
  {
   "cell_type": "code",
   "execution_count": 9,
   "metadata": {},
   "outputs": [
    {
     "name": "stdout",
     "output_type": "stream",
     "text": [
      "\n",
      "    SELECT distinct \n",
      "        device_id, \n",
      "        longitude,\n",
      "        latitude\n",
      "    from event\n",
      "    inner join app \n",
      "    on event.event_id = app.event_id\n",
      "    where\n",
      "        app_category = 'Health and Wellness' and \n",
      "        is_active = 1 and \n",
      "        is_installed = 1;\n",
      "\n"
     ]
    }
   ],
   "source": [
    "# Get the health and wellness unique users data\n",
    "# Check where they are located\n",
    "sql = '''\n",
    "    SELECT distinct \n",
    "        device_id, \n",
    "        longitude,\n",
    "        latitude\n",
    "    from event\n",
    "    inner join app \n",
    "    on event.event_id = app.event_id\n",
    "    where\n",
    "        app_category = 'Health and Wellness' and \n",
    "        is_active = 1 and \n",
    "        is_installed = 1;\n",
    "'''\n",
    "\n",
    "print(sql)"
   ]
  },
  {
   "cell_type": "code",
   "execution_count": 10,
   "metadata": {
    "collapsed": true
   },
   "outputs": [],
   "source": [
    "Health_event = run_query(sql)"
   ]
  },
  {
   "cell_type": "code",
   "execution_count": 11,
   "metadata": {},
   "outputs": [
    {
     "name": "stdout",
     "output_type": "stream",
     "text": [
      "Maximum longitude in the data is:  139.77\n",
      "Minimum longitude in the data is:  -180.0\n",
      "Maximum latitude in the data is:  52.33\n",
      "Maximum latitude in the data is:  -0.25\n"
     ]
    }
   ],
   "source": [
    "# get the max and min longitude and latitude for plotting Health and Wellness app distribution \n",
    "print(\"Maximum longitude in the data is: \",Health_event.longitude.max())\n",
    "print(\"Minimum longitude in the data is: \",Health_event.longitude.min())\n",
    "print(\"Maximum latitude in the data is: \",Health_event.latitude.max())\n",
    "print(\"Maximum latitude in the data is: \",Health_event.latitude.min())"
   ]
  },
  {
   "cell_type": "code",
   "execution_count": 12,
   "metadata": {},
   "outputs": [
    {
     "name": "stderr",
     "output_type": "stream",
     "text": [
      "/Users/Jiaqi/anaconda3/lib/python3.6/site-packages/mpl_toolkits/basemap/__init__.py:1767: MatplotlibDeprecationWarning: The get_axis_bgcolor function was deprecated in version 2.0. Use get_facecolor instead.\n",
      "  axisbgc = ax.get_axis_bgcolor()\n",
      "/Users/Jiaqi/anaconda3/lib/python3.6/site-packages/mpl_toolkits/basemap/__init__.py:1698: MatplotlibDeprecationWarning: The axesPatch function was deprecated in version 2.1. Use Axes.patch instead.\n",
      "  limb = ax.axesPatch\n",
      "/Users/Jiaqi/anaconda3/lib/python3.6/site-packages/mpl_toolkits/basemap/__init__.py:3222: MatplotlibDeprecationWarning: The ishold function was deprecated in version 2.0.\n",
      "  b = ax.ishold()\n",
      "/Users/Jiaqi/anaconda3/lib/python3.6/site-packages/mpl_toolkits/basemap/__init__.py:3231: MatplotlibDeprecationWarning: axes.hold is deprecated.\n",
      "    See the API Changes document (http://matplotlib.org/api/api_changes.html)\n",
      "    for more details.\n",
      "  ax.hold(b)\n"
     ]
    },
    {
     "data": {
      "image/png": "[encoded data removed]",
      "text/plain": [
       "<matplotlib.figure.Figure at 0x1a0c201748>"
      ]
     },
     "metadata": {},
     "output_type": "display_data"
    }
   ],
   "source": [
    "# Set up plot\n",
    "plt.figure(1, figsize=(20,8))\n",
    "\n",
    "# Set up the World Map\n",
    "m1 = Basemap(projection='merc',\n",
    "             llcrnrlat=-10,\n",
    "             urcrnrlat=65,\n",
    "             llcrnrlon=-180,\n",
    "             urcrnrlon=180,\n",
    "             lat_ts=0,\n",
    "             resolution='c')\n",
    "\n",
    "m1.fillcontinents(color='#e1bfb1',lake_color='#6f6f6f') # peach land, grey lakes\n",
    "m1.drawmapboundary(fill_color='#6f6f6f')                # grey background\n",
    "m1.drawcountries(linewidth=0.2, color=\"b\")              # thin line for country borders\n",
    "\n",
    "# Plot the data\n",
    "mxy = m1(Health_event[\"longitude\"].tolist(), Health_event[\"latitude\"].tolist())\n",
    "m1.scatter(mxy[0], mxy[1], s=3, c=\"#eef009\", lw=0, alpha=1, zorder=5) # yellow for the position marker\n",
    "\n",
    "plt.show()"
   ]
  },
  {
   "cell_type": "markdown",
   "metadata": {},
   "source": [
    "** Current App Usage Behaviors for Health and Wellness Apps: **\n",
    "- Which month they use more often?\n",
    "- Which day they use more often? \n",
    "- What time they use more often? "
   ]
  },
  {
   "cell_type": "code",
   "execution_count": 13,
   "metadata": {},
   "outputs": [
    {
     "name": "stdout",
     "output_type": "stream",
     "text": [
      "\n",
      "    SELECT \n",
      "        app_category,\n",
      "        device_id, \n",
      "        timestamp\n",
      "    from app \n",
      "    inner join event \n",
      "    on event.event_id = app.event_id\n",
      "    where\n",
      "        app_category = 'Health and Wellness' and \n",
      "        is_active = 1 and \n",
      "        is_installed = 1;\n",
      "\n"
     ]
    }
   ],
   "source": [
    "# Get the health and wellness device data\n",
    "# Check current health and wellness usage behaviors\n",
    "sql = '''\n",
    "    SELECT \n",
    "        app_category,\n",
    "        device_id, \n",
    "        timestamp\n",
    "    from app \n",
    "    inner join event \n",
    "    on event.event_id = app.event_id\n",
    "    where\n",
    "        app_category = 'Health and Wellness' and \n",
    "        is_active = 1 and \n",
    "        is_installed = 1;\n",
    "'''\n",
    "\n",
    "print(sql)"
   ]
  },
  {
   "cell_type": "code",
   "execution_count": 14,
   "metadata": {
    "collapsed": true
   },
   "outputs": [],
   "source": [
    "device = run_query(sql)"
   ]
  },
  {
   "cell_type": "code",
   "execution_count": 15,
   "metadata": {},
   "outputs": [
    {
     "data": {
      "text/html": [
       "<div>\n",
       "<style scoped>\n",
       "    .dataframe tbody tr th:only-of-type {\n",
       "        vertical-align: middle;\n",
       "    }\n",
       "\n",
       "    .dataframe tbody tr th {\n",
       "        vertical-align: top;\n",
       "    }\n",
       "\n",
       "    .dataframe thead th {\n",
       "        text-align: right;\n",
       "    }\n",
       "</style>\n",
       "<table border=\"1\" class=\"dataframe\">\n",
       "  <thead>\n",
       "    <tr style=\"text-align: right;\">\n",
       "      <th></th>\n",
       "      <th>app_category</th>\n",
       "      <th>device_id</th>\n",
       "      <th>timestamp</th>\n",
       "    </tr>\n",
       "  </thead>\n",
       "  <tbody>\n",
       "    <tr>\n",
       "      <th>0</th>\n",
       "      <td>Health and Wellness</td>\n",
       "      <td>-6401643145415154744</td>\n",
       "      <td>2016-05-01 00:54:12</td>\n",
       "    </tr>\n",
       "    <tr>\n",
       "      <th>1</th>\n",
       "      <td>Health and Wellness</td>\n",
       "      <td>1476664663289716375</td>\n",
       "      <td>2016-05-01 00:27:21</td>\n",
       "    </tr>\n",
       "    <tr>\n",
       "      <th>2</th>\n",
       "      <td>Health and Wellness</td>\n",
       "      <td>5990807147117726237</td>\n",
       "      <td>2016-05-01 00:15:13</td>\n",
       "    </tr>\n",
       "    <tr>\n",
       "      <th>3</th>\n",
       "      <td>Health and Wellness</td>\n",
       "      <td>7166563712658305181</td>\n",
       "      <td>2016-05-01 00:31:40</td>\n",
       "    </tr>\n",
       "    <tr>\n",
       "      <th>4</th>\n",
       "      <td>Health and Wellness</td>\n",
       "      <td>-3449419341168524142</td>\n",
       "      <td>2016-05-01 00:25:41</td>\n",
       "    </tr>\n",
       "  </tbody>\n",
       "</table>\n",
       "</div>"
      ],
      "text/plain": [
       "          app_category             device_id            timestamp\n",
       "0  Health and Wellness  -6401643145415154744  2016-05-01 00:54:12\n",
       "1  Health and Wellness   1476664663289716375  2016-05-01 00:27:21\n",
       "2  Health and Wellness   5990807147117726237  2016-05-01 00:15:13\n",
       "3  Health and Wellness   7166563712658305181  2016-05-01 00:31:40\n",
       "4  Health and Wellness  -3449419341168524142  2016-05-01 00:25:41"
      ]
     },
     "execution_count": 15,
     "metadata": {},
     "output_type": "execute_result"
    }
   ],
   "source": [
    "# take a look at the data\n",
    "device.head()"
   ]
  },
  {
   "cell_type": "code",
   "execution_count": 16,
   "metadata": {},
   "outputs": [
    {
     "name": "stdout",
     "output_type": "stream",
     "text": [
      "<class 'pandas.core.frame.DataFrame'>\n",
      "RangeIndex: 487247 entries, 0 to 487246\n",
      "Data columns (total 3 columns):\n",
      "app_category    487247 non-null object\n",
      "device_id       487247 non-null object\n",
      "timestamp       487247 non-null object\n",
      "dtypes: object(3)\n",
      "memory usage: 11.2+ MB\n"
     ]
    }
   ],
   "source": [
    "# check the device dataset info\n",
    "device.info()"
   ]
  },
  {
   "cell_type": "markdown",
   "metadata": {},
   "source": [
    "We see that timestamp is a string. We need to convert it to datetime format"
   ]
  },
  {
   "cell_type": "code",
   "execution_count": 17,
   "metadata": {
    "collapsed": true
   },
   "outputs": [],
   "source": [
    "from dateutil.parser import parse\n",
    "\n",
    "# test for one timestamp\n",
    "#date_text = device.timestamp[0]\n",
    "#dt = parse(date_text)\n",
    "#print(dt)"
   ]
  },
  {
   "cell_type": "code",
   "execution_count": 18,
   "metadata": {
    "collapsed": true
   },
   "outputs": [],
   "source": [
    "device['timestamp_2'] = device.timestamp.apply(lambda x: parse(x))"
   ]
  },
  {
   "cell_type": "code",
   "execution_count": 177,
   "metadata": {},
   "outputs": [
    {
     "data": {
      "text/plain": [
       "pandas.core.frame.DataFrame"
      ]
     },
     "execution_count": 177,
     "metadata": {},
     "output_type": "execute_result"
    }
   ],
   "source": [
    "type(device)"
   ]
  },
  {
   "cell_type": "code",
   "execution_count": 19,
   "metadata": {},
   "outputs": [
    {
     "name": "stdout",
     "output_type": "stream",
     "text": [
      "<class 'pandas.core.frame.DataFrame'>\n",
      "RangeIndex: 487247 entries, 0 to 487246\n",
      "Data columns (total 4 columns):\n",
      "app_category    487247 non-null object\n",
      "device_id       487247 non-null object\n",
      "timestamp       487247 non-null object\n",
      "timestamp_2     487247 non-null datetime64[ns]\n",
      "dtypes: datetime64[ns](1), object(3)\n",
      "memory usage: 14.9+ MB\n"
     ]
    }
   ],
   "source": [
    "device.info()"
   ]
  },
  {
   "cell_type": "code",
   "execution_count": 20,
   "metadata": {},
   "outputs": [
    {
     "data": {
      "text/html": [
       "<div>\n",
       "<style scoped>\n",
       "    .dataframe tbody tr th:only-of-type {\n",
       "        vertical-align: middle;\n",
       "    }\n",
       "\n",
       "    .dataframe tbody tr th {\n",
       "        vertical-align: top;\n",
       "    }\n",
       "\n",
       "    .dataframe thead th {\n",
       "        text-align: right;\n",
       "    }\n",
       "</style>\n",
       "<table border=\"1\" class=\"dataframe\">\n",
       "  <thead>\n",
       "    <tr style=\"text-align: right;\">\n",
       "      <th></th>\n",
       "      <th>app_category</th>\n",
       "      <th>device_id</th>\n",
       "      <th>timestamp</th>\n",
       "      <th>timestamp_2</th>\n",
       "    </tr>\n",
       "  </thead>\n",
       "  <tbody>\n",
       "    <tr>\n",
       "      <th>0</th>\n",
       "      <td>Health and Wellness</td>\n",
       "      <td>-6401643145415154744</td>\n",
       "      <td>2016-05-01 00:54:12</td>\n",
       "      <td>2016-05-01 00:54:12</td>\n",
       "    </tr>\n",
       "    <tr>\n",
       "      <th>1</th>\n",
       "      <td>Health and Wellness</td>\n",
       "      <td>1476664663289716375</td>\n",
       "      <td>2016-05-01 00:27:21</td>\n",
       "      <td>2016-05-01 00:27:21</td>\n",
       "    </tr>\n",
       "    <tr>\n",
       "      <th>2</th>\n",
       "      <td>Health and Wellness</td>\n",
       "      <td>5990807147117726237</td>\n",
       "      <td>2016-05-01 00:15:13</td>\n",
       "      <td>2016-05-01 00:15:13</td>\n",
       "    </tr>\n",
       "    <tr>\n",
       "      <th>3</th>\n",
       "      <td>Health and Wellness</td>\n",
       "      <td>7166563712658305181</td>\n",
       "      <td>2016-05-01 00:31:40</td>\n",
       "      <td>2016-05-01 00:31:40</td>\n",
       "    </tr>\n",
       "    <tr>\n",
       "      <th>4</th>\n",
       "      <td>Health and Wellness</td>\n",
       "      <td>-3449419341168524142</td>\n",
       "      <td>2016-05-01 00:25:41</td>\n",
       "      <td>2016-05-01 00:25:41</td>\n",
       "    </tr>\n",
       "  </tbody>\n",
       "</table>\n",
       "</div>"
      ],
      "text/plain": [
       "          app_category             device_id            timestamp  \\\n",
       "0  Health and Wellness  -6401643145415154744  2016-05-01 00:54:12   \n",
       "1  Health and Wellness   1476664663289716375  2016-05-01 00:27:21   \n",
       "2  Health and Wellness   5990807147117726237  2016-05-01 00:15:13   \n",
       "3  Health and Wellness   7166563712658305181  2016-05-01 00:31:40   \n",
       "4  Health and Wellness  -3449419341168524142  2016-05-01 00:25:41   \n",
       "\n",
       "          timestamp_2  \n",
       "0 2016-05-01 00:54:12  \n",
       "1 2016-05-01 00:27:21  \n",
       "2 2016-05-01 00:15:13  \n",
       "3 2016-05-01 00:31:40  \n",
       "4 2016-05-01 00:25:41  "
      ]
     },
     "execution_count": 20,
     "metadata": {},
     "output_type": "execute_result"
    }
   ],
   "source": [
    "device.head()"
   ]
  },
  {
   "cell_type": "code",
   "execution_count": 22,
   "metadata": {},
   "outputs": [
    {
     "name": "stderr",
     "output_type": "stream",
     "text": [
      "/Users/Jiaqi/anaconda3/lib/python3.6/site-packages/seaborn/categorical.py:1460: FutureWarning: remove_na is deprecated and is a private function. Do not use.\n",
      "  stat_data = remove_na(group_data)\n"
     ]
    },
    {
     "data": {
      "image/png": "[encoded data removed]",
      "text/plain": [
       "<matplotlib.figure.Figure at 0x1056a8b70>"
      ]
     },
     "metadata": {},
     "output_type": "display_data"
    }
   ],
   "source": [
    "import calendar\n",
    "device['month'] = device.timestamp_2.apply(lambda x: x.month)\n",
    "plt.figure(1, figsize=(15,8))\n",
    "ax = sns.countplot(x=\"month\", palette='coolwarm',data=device)"
   ]
  },
  {
   "cell_type": "code",
   "execution_count": 23,
   "metadata": {},
   "outputs": [
    {
     "data": {
      "text/plain": [
       "5    487132\n",
       "4       115\n",
       "Name: month, dtype: int64"
      ]
     },
     "execution_count": 23,
     "metadata": {},
     "output_type": "execute_result"
    }
   ],
   "source": [
    "device.month.value_counts()"
   ]
  },
  {
   "cell_type": "code",
   "execution_count": 24,
   "metadata": {},
   "outputs": [
    {
     "name": "stderr",
     "output_type": "stream",
     "text": [
      "/Users/Jiaqi/anaconda3/lib/python3.6/site-packages/seaborn/categorical.py:1460: FutureWarning: remove_na is deprecated and is a private function. Do not use.\n",
      "  stat_data = remove_na(group_data)\n"
     ]
    },
    {
     "data": {
      "image/png": "[encoded data removed]",
      "text/plain": [
       "<matplotlib.figure.Figure at 0x1a3986fe10>"
      ]
     },
     "metadata": {},
     "output_type": "display_data"
    }
   ],
   "source": [
    "device['weekday'] = device.timestamp_2.apply(lambda x: calendar.day_name[x.weekday()])\n",
    "plt.figure(1, figsize=(15,8))\n",
    "ax = sns.countplot(x=\"weekday\",palette='coolwarm', data=device)"
   ]
  },
  {
   "cell_type": "code",
   "execution_count": 25,
   "metadata": {},
   "outputs": [
    {
     "data": {
      "text/plain": [
       "Friday       74952\n",
       "Tuesday      73049\n",
       "Thursday     72004\n",
       "Wednesday    70026\n",
       "Saturday     66731\n",
       "Monday       66034\n",
       "Sunday       64451\n",
       "Name: weekday, dtype: int64"
      ]
     },
     "execution_count": 25,
     "metadata": {},
     "output_type": "execute_result"
    }
   ],
   "source": [
    "# value counts per day\n",
    "device.weekday.value_counts()"
   ]
  },
  {
   "cell_type": "code",
   "execution_count": 26,
   "metadata": {},
   "outputs": [
    {
     "data": {
      "text/plain": [
       "69606.71428571429"
      ]
     },
     "execution_count": 26,
     "metadata": {},
     "output_type": "execute_result"
    }
   ],
   "source": [
    "# average usage per day\n",
    "device.weekday.value_counts().mean()"
   ]
  },
  {
   "cell_type": "markdown",
   "metadata": {},
   "source": [
    "We can see that Friday has the highest usage for Health and Wellness apps, Tuesday is the next, with Sunday being the least usage on Health and Wellness apps. The average daily usage is 69,606.7."
   ]
  },
  {
   "cell_type": "code",
   "execution_count": 27,
   "metadata": {},
   "outputs": [
    {
     "name": "stderr",
     "output_type": "stream",
     "text": [
      "/Users/Jiaqi/anaconda3/lib/python3.6/site-packages/seaborn/categorical.py:1460: FutureWarning: remove_na is deprecated and is a private function. Do not use.\n",
      "  stat_data = remove_na(group_data)\n"
     ]
    },
    {
     "data": {
      "image/png": "[encoded data removed]",
      "text/plain": [
       "<matplotlib.figure.Figure at 0x1a3974c470>"
      ]
     },
     "metadata": {},
     "output_type": "display_data"
    }
   ],
   "source": [
    "plt.figure(1, figsize=(15,8))\n",
    "device['hour'] = device.timestamp_2.apply(lambda x: x.hour)\n",
    "ax = sns.countplot(x='hour', palette='coolwarm',data=device)"
   ]
  },
  {
   "cell_type": "code",
   "execution_count": 28,
   "metadata": {},
   "outputs": [
    {
     "data": {
      "text/plain": [
       "10    27033\n",
       "9     25926\n",
       "11    25384\n",
       "21    25179\n",
       "20    24736\n",
       "12    24709\n",
       "8     24526\n",
       "22    24016\n",
       "19    23563\n",
       "13    23393\n",
       "7     23145\n",
       "14    22710\n",
       "15    22435\n",
       "18    22411\n",
       "16    22258\n",
       "17    22169\n",
       "23    19844\n",
       "6     19260\n",
       "0     19223\n",
       "5     11366\n",
       "1     11346\n",
       "2      8423\n",
       "4      7162\n",
       "3      7030\n",
       "Name: hour, dtype: int64"
      ]
     },
     "execution_count": 28,
     "metadata": {},
     "output_type": "execute_result"
    }
   ],
   "source": [
    "# value counts per hour usage\n",
    "device.hour.value_counts()"
   ]
  },
  {
   "cell_type": "code",
   "execution_count": 31,
   "metadata": {},
   "outputs": [
    {
     "data": {
      "text/plain": [
       "20301.958333333332"
      ]
     },
     "execution_count": 31,
     "metadata": {},
     "output_type": "execute_result"
    }
   ],
   "source": [
    "# average usage per hour\n",
    "device.hour.value_counts().mean()"
   ]
  },
  {
   "cell_type": "markdown",
   "metadata": {},
   "source": [
    "** Phone Brand:** Which are the top phone brand for Health and Wellness apps users?\n"
   ]
  },
  {
   "cell_type": "code",
   "execution_count": 70,
   "metadata": {},
   "outputs": [
    {
     "name": "stdout",
     "output_type": "stream",
     "text": [
      "\n",
      "    SELECT \n",
      "        app_category,\n",
      "        timestamp,\n",
      "        longitude,\n",
      "        latitude,\n",
      "        user.*\n",
      "        \n",
      "    from app \n",
      "    inner join event on event.event_id = app.event_id\n",
      "    inner join user on event.device_id = user.device_id\n",
      "    where\n",
      "        app_category = 'Health and Wellness' and \n",
      "        is_active = 1 and \n",
      "        is_installed = 1;\n",
      "\n"
     ]
    }
   ],
   "source": [
    "# Get the health and wellness gender, age, brand data\n",
    "# Check current health and wellness usage behaviors\n",
    "sql = '''\n",
    "    SELECT \n",
    "        app_category,\n",
    "        timestamp,\n",
    "        longitude,\n",
    "        latitude,\n",
    "        user.*\n",
    "        \n",
    "    from app \n",
    "    inner join event on event.event_id = app.event_id\n",
    "    inner join user on event.device_id = user.device_id\n",
    "    where\n",
    "        app_category = 'Health and Wellness' and \n",
    "        is_active = 1 and \n",
    "        is_installed = 1;\n",
    "'''\n",
    "\n",
    "print(sql)"
   ]
  },
  {
   "cell_type": "code",
   "execution_count": 71,
   "metadata": {
    "collapsed": true
   },
   "outputs": [],
   "source": [
    "user_demo = run_query(sql)"
   ]
  },
  {
   "cell_type": "code",
   "execution_count": 72,
   "metadata": {},
   "outputs": [
    {
     "data": {
      "text/html": [
       "<div>\n",
       "<style scoped>\n",
       "    .dataframe tbody tr th:only-of-type {\n",
       "        vertical-align: middle;\n",
       "    }\n",
       "\n",
       "    .dataframe tbody tr th {\n",
       "        vertical-align: top;\n",
       "    }\n",
       "\n",
       "    .dataframe thead th {\n",
       "        text-align: right;\n",
       "    }\n",
       "</style>\n",
       "<table border=\"1\" class=\"dataframe\">\n",
       "  <thead>\n",
       "    <tr style=\"text-align: right;\">\n",
       "      <th></th>\n",
       "      <th>app_category</th>\n",
       "      <th>timestamp</th>\n",
       "      <th>longitude</th>\n",
       "      <th>latitude</th>\n",
       "      <th>device_id</th>\n",
       "      <th>gender</th>\n",
       "      <th>age</th>\n",
       "      <th>group</th>\n",
       "      <th>phone_brand</th>\n",
       "    </tr>\n",
       "  </thead>\n",
       "  <tbody>\n",
       "    <tr>\n",
       "      <th>0</th>\n",
       "      <td>Health and Wellness</td>\n",
       "      <td>2016-05-01 00:27:21</td>\n",
       "      <td>0.00</td>\n",
       "      <td>0.00</td>\n",
       "      <td>1476664663289716375</td>\n",
       "      <td>M</td>\n",
       "      <td>19</td>\n",
       "      <td>M22-</td>\n",
       "      <td>apple</td>\n",
       "    </tr>\n",
       "    <tr>\n",
       "      <th>1</th>\n",
       "      <td>Health and Wellness</td>\n",
       "      <td>2016-05-01 00:31:40</td>\n",
       "      <td>117.96</td>\n",
       "      <td>28.47</td>\n",
       "      <td>7166563712658305181</td>\n",
       "      <td>M</td>\n",
       "      <td>60</td>\n",
       "      <td>M39+</td>\n",
       "      <td>apple</td>\n",
       "    </tr>\n",
       "    <tr>\n",
       "      <th>2</th>\n",
       "      <td>Health and Wellness</td>\n",
       "      <td>2016-05-01 00:25:41</td>\n",
       "      <td>0.00</td>\n",
       "      <td>0.00</td>\n",
       "      <td>-3449419341168524142</td>\n",
       "      <td>M</td>\n",
       "      <td>28</td>\n",
       "      <td>M27-28</td>\n",
       "      <td>apple</td>\n",
       "    </tr>\n",
       "    <tr>\n",
       "      <th>3</th>\n",
       "      <td>Health and Wellness</td>\n",
       "      <td>2016-05-01 00:33:14</td>\n",
       "      <td>113.37</td>\n",
       "      <td>28.25</td>\n",
       "      <td>-4713356591613805069</td>\n",
       "      <td>M</td>\n",
       "      <td>25</td>\n",
       "      <td>M23-26</td>\n",
       "      <td>apple</td>\n",
       "    </tr>\n",
       "    <tr>\n",
       "      <th>4</th>\n",
       "      <td>Health and Wellness</td>\n",
       "      <td>2016-05-01 00:33:14</td>\n",
       "      <td>113.37</td>\n",
       "      <td>28.25</td>\n",
       "      <td>-4713356591613805069</td>\n",
       "      <td>M</td>\n",
       "      <td>25</td>\n",
       "      <td>M23-26</td>\n",
       "      <td>apple</td>\n",
       "    </tr>\n",
       "  </tbody>\n",
       "</table>\n",
       "</div>"
      ],
      "text/plain": [
       "          app_category            timestamp  longitude  latitude  \\\n",
       "0  Health and Wellness  2016-05-01 00:27:21       0.00      0.00   \n",
       "1  Health and Wellness  2016-05-01 00:31:40     117.96     28.47   \n",
       "2  Health and Wellness  2016-05-01 00:25:41       0.00      0.00   \n",
       "3  Health and Wellness  2016-05-01 00:33:14     113.37     28.25   \n",
       "4  Health and Wellness  2016-05-01 00:33:14     113.37     28.25   \n",
       "\n",
       "              device_id gender  age   group phone_brand  \n",
       "0   1476664663289716375      M   19    M22-       apple  \n",
       "1   7166563712658305181      M   60    M39+       apple  \n",
       "2  -3449419341168524142      M   28  M27-28       apple  \n",
       "3  -4713356591613805069      M   25  M23-26       apple  \n",
       "4  -4713356591613805069      M   25  M23-26       apple  "
      ]
     },
     "execution_count": 72,
     "metadata": {},
     "output_type": "execute_result"
    }
   ],
   "source": [
    "# take a look at the dataset\n",
    "user_demo.head()"
   ]
  },
  {
   "cell_type": "code",
   "execution_count": 78,
   "metadata": {},
   "outputs": [
    {
     "data": {
      "text/plain": [
       "apple      139287\n",
       "samsung     27682\n",
       "lenovo       6788\n",
       "ccmc         2358\n",
       "lshi         1638\n",
       "nubia        1370\n",
       "oneplus       869\n",
       "hammer        706\n",
       "yuxin         573\n",
       "hisense       490\n",
       "Name: phone_brand, dtype: int64"
      ]
     },
     "execution_count": 78,
     "metadata": {},
     "output_type": "execute_result"
    }
   ],
   "source": [
    "# check the top 10 phone brand in using Health and Wellness apps\n",
    "user_demo.phone_brand.value_counts().head(10)"
   ]
  },
  {
   "cell_type": "code",
   "execution_count": 94,
   "metadata": {},
   "outputs": [
    {
     "data": {
      "text/plain": [
       "<matplotlib.axes._subplots.AxesSubplot at 0x1a357fbf60>"
      ]
     },
     "execution_count": 94,
     "metadata": {},
     "output_type": "execute_result"
    },
    {
     "data": {
      "image/png": "[encoded data removed]",
      "text/plain": [
       "<matplotlib.figure.Figure at 0x1a356f4518>"
      ]
     },
     "metadata": {},
     "output_type": "display_data"
    }
   ],
   "source": [
    "plt.figure(1, figsize=(15,8))\n",
    "user_demo['phone_brand'].value_counts().head(10).plot(kind='barh')"
   ]
  },
  {
   "cell_type": "markdown",
   "metadata": {
    "collapsed": true
   },
   "source": [
    "** Age: ** What age of users use the Health and Wellness more?"
   ]
  },
  {
   "cell_type": "code",
   "execution_count": 96,
   "metadata": {},
   "outputs": [
    {
     "data": {
      "text/plain": [
       "35.602278804282584"
      ]
     },
     "execution_count": 96,
     "metadata": {},
     "output_type": "execute_result"
    }
   ],
   "source": [
    "# average age using the Health and Wellness apps\n",
    "user_demo.age.mean()"
   ]
  },
  {
   "cell_type": "code",
   "execution_count": 103,
   "metadata": {},
   "outputs": [
    {
     "data": {
      "text/plain": [
       "36.10626963239664"
      ]
     },
     "execution_count": 103,
     "metadata": {},
     "output_type": "execute_result"
    }
   ],
   "source": [
    "user_demo[user_demo['gender'] == 'F'].age.mean()"
   ]
  },
  {
   "cell_type": "code",
   "execution_count": 104,
   "metadata": {},
   "outputs": [
    {
     "data": {
      "text/plain": [
       "35.427852620135454"
      ]
     },
     "execution_count": 104,
     "metadata": {},
     "output_type": "execute_result"
    }
   ],
   "source": [
    "user_demo[user_demo['gender'] == 'M'].age.mean()"
   ]
  },
  {
   "cell_type": "code",
   "execution_count": 139,
   "metadata": {},
   "outputs": [
    {
     "name": "stderr",
     "output_type": "stream",
     "text": [
      "/Users/Jiaqi/anaconda3/lib/python3.6/site-packages/seaborn/categorical.py:1460: FutureWarning: remove_na is deprecated and is a private function. Do not use.\n",
      "  stat_data = remove_na(group_data)\n"
     ]
    },
    {
     "data": {
      "image/png": "[encoded data removed]",
      "text/plain": [
       "<matplotlib.figure.Figure at 0x1a3a070780>"
      ]
     },
     "metadata": {},
     "output_type": "display_data"
    }
   ],
   "source": [
    "# plot all the age distribution\n",
    "plt.figure(1, figsize=(20,8))\n",
    "ax = sns.countplot(x='age', palette='coolwarm',data=user_demo)"
   ]
  },
  {
   "cell_type": "code",
   "execution_count": 141,
   "metadata": {},
   "outputs": [
    {
     "data": {
      "text/plain": [
       "count    183254.000000\n",
       "mean         35.602279\n",
       "std           9.810917\n",
       "min          11.000000\n",
       "25%          28.000000\n",
       "50%          34.000000\n",
       "75%          42.000000\n",
       "max          88.000000\n",
       "Name: age, dtype: float64"
      ]
     },
     "execution_count": 141,
     "metadata": {},
     "output_type": "execute_result"
    }
   ],
   "source": [
    "user_demo.age.describe()"
   ]
  },
  {
   "cell_type": "code",
   "execution_count": 140,
   "metadata": {},
   "outputs": [
    {
     "name": "stderr",
     "output_type": "stream",
     "text": [
      "/Users/Jiaqi/anaconda3/lib/python3.6/site-packages/seaborn/categorical.py:1460: FutureWarning: remove_na is deprecated and is a private function. Do not use.\n",
      "  stat_data = remove_na(group_data)\n"
     ]
    },
    {
     "data": {
      "image/png": "[encoded data removed]",
      "text/plain": [
       "<matplotlib.figure.Figure at 0x1a40787da0>"
      ]
     },
     "metadata": {},
     "output_type": "display_data"
    }
   ],
   "source": [
    "# plot male the age distribution\n",
    "plt.figure(1, figsize=(20,8))\n",
    "ax = sns.countplot(x='age', palette='coolwarm',data=user_demo[user_demo['gender']=='M'])"
   ]
  },
  {
   "cell_type": "code",
   "execution_count": 142,
   "metadata": {},
   "outputs": [
    {
     "data": {
      "text/plain": [
       "count    136138.000000\n",
       "mean         35.427853\n",
       "std           9.756809\n",
       "min          12.000000\n",
       "25%          28.000000\n",
       "50%          34.000000\n",
       "75%          41.000000\n",
       "max          88.000000\n",
       "Name: age, dtype: float64"
      ]
     },
     "execution_count": 142,
     "metadata": {},
     "output_type": "execute_result"
    }
   ],
   "source": [
    "user_demo[user_demo['gender']=='M'].age.describe()"
   ]
  },
  {
   "cell_type": "code",
   "execution_count": 145,
   "metadata": {},
   "outputs": [
    {
     "data": {
      "text/plain": [
       "27    7098\n",
       "29    6805\n",
       "32    6724\n",
       "30    6613\n",
       "34    6255\n",
       "28    6246\n",
       "35    5623\n",
       "26    5409\n",
       "33    5268\n",
       "39    5083\n",
       "Name: age, dtype: int64"
      ]
     },
     "execution_count": 145,
     "metadata": {},
     "output_type": "execute_result"
    }
   ],
   "source": [
    "# top 10 male age group in using health and wellness app\n",
    "user_demo[user_demo['gender']=='M'].age.value_counts().head(10)"
   ]
  },
  {
   "cell_type": "code",
   "execution_count": 147,
   "metadata": {},
   "outputs": [
    {
     "data": {
      "text/plain": [
       "<matplotlib.axes._subplots.AxesSubplot at 0x1a385ac588>"
      ]
     },
     "execution_count": 147,
     "metadata": {},
     "output_type": "execute_result"
    },
    {
     "data": {
      "image/png": "[encoded data removed]",
      "text/plain": [
       "<matplotlib.figure.Figure at 0x1a37ecc400>"
      ]
     },
     "metadata": {},
     "output_type": "display_data"
    }
   ],
   "source": [
    "plt.figure(1, figsize=(10,5))\n",
    "user_demo[user_demo['gender']=='M'].age.value_counts().head(10).plot(kind='barh')"
   ]
  },
  {
   "cell_type": "code",
   "execution_count": 138,
   "metadata": {},
   "outputs": [
    {
     "name": "stderr",
     "output_type": "stream",
     "text": [
      "/Users/Jiaqi/anaconda3/lib/python3.6/site-packages/seaborn/categorical.py:1460: FutureWarning: remove_na is deprecated and is a private function. Do not use.\n",
      "  stat_data = remove_na(group_data)\n"
     ]
    },
    {
     "data": {
      "image/png": "[encoded data removed]",
      "text/plain": [
       "<matplotlib.figure.Figure at 0x1a37d49940>"
      ]
     },
     "metadata": {},
     "output_type": "display_data"
    }
   ],
   "source": [
    "# plot female the age distribution\n",
    "plt.figure(1, figsize=(20,8))\n",
    "ax = sns.countplot(x='age', palette='coolwarm',data=user_demo[user_demo['gender']=='F'])"
   ]
  },
  {
   "cell_type": "code",
   "execution_count": 143,
   "metadata": {},
   "outputs": [
    {
     "data": {
      "text/plain": [
       "count    47116.000000\n",
       "mean        36.106270\n",
       "std          9.948543\n",
       "min         11.000000\n",
       "25%         29.000000\n",
       "50%         35.000000\n",
       "75%         43.000000\n",
       "max         81.000000\n",
       "Name: age, dtype: float64"
      ]
     },
     "execution_count": 143,
     "metadata": {},
     "output_type": "execute_result"
    }
   ],
   "source": [
    "user_demo[user_demo['gender']=='F'].age.describe()"
   ]
  },
  {
   "cell_type": "code",
   "execution_count": 148,
   "metadata": {},
   "outputs": [
    {
     "data": {
      "text/plain": [
       "37    2915\n",
       "29    2632\n",
       "35    2393\n",
       "28    2351\n",
       "45    2128\n",
       "41    2040\n",
       "26    1968\n",
       "24    1885\n",
       "32    1844\n",
       "30    1815\n",
       "Name: age, dtype: int64"
      ]
     },
     "execution_count": 148,
     "metadata": {},
     "output_type": "execute_result"
    }
   ],
   "source": [
    "# top 10 female age group in using health and wellness app\n",
    "user_demo[user_demo['gender']=='F'].age.value_counts().head(10)"
   ]
  },
  {
   "cell_type": "code",
   "execution_count": 149,
   "metadata": {},
   "outputs": [
    {
     "data": {
      "text/plain": [
       "<matplotlib.axes._subplots.AxesSubplot at 0x1a37abb6a0>"
      ]
     },
     "execution_count": 149,
     "metadata": {},
     "output_type": "execute_result"
    },
    {
     "data": {
      "image/png": "[encoded data removed]",
      "text/plain": [
       "<matplotlib.figure.Figure at 0x1a3e8174e0>"
      ]
     },
     "metadata": {},
     "output_type": "display_data"
    }
   ],
   "source": [
    "plt.figure(1, figsize=(10,5))\n",
    "user_demo[user_demo['gender']=='F'].age.value_counts().head(10).plot(kind='barh')"
   ]
  },
  {
   "cell_type": "code",
   "execution_count": 90,
   "metadata": {},
   "outputs": [
    {
     "data": {
      "text/plain": [
       "29    9437\n",
       "28    8597\n",
       "32    8568\n",
       "30    8428\n",
       "27    8241\n",
       "35    8016\n",
       "34    7922\n",
       "26    7377\n",
       "33    6780\n",
       "39    6741\n",
       "Name: age, dtype: int64"
      ]
     },
     "execution_count": 90,
     "metadata": {},
     "output_type": "execute_result"
    }
   ],
   "source": [
    "# top 10 age using the Health and Wellness apps\n",
    "user_demo.age.value_counts().head(10)"
   ]
  },
  {
   "cell_type": "code",
   "execution_count": 102,
   "metadata": {},
   "outputs": [
    {
     "data": {
      "text/plain": [
       "<matplotlib.axes._subplots.AxesSubplot at 0x1a36bbfcc0>"
      ]
     },
     "execution_count": 102,
     "metadata": {},
     "output_type": "execute_result"
    },
    {
     "data": {
      "image/png": "[encoded data removed]",
      "text/plain": [
       "<matplotlib.figure.Figure at 0x1a371ea4a8>"
      ]
     },
     "metadata": {},
     "output_type": "display_data"
    }
   ],
   "source": [
    "plt.figure(1, figsize=(15,8))\n",
    "user_demo['age'].value_counts().head(10).plot(kind='barh')"
   ]
  },
  {
   "cell_type": "markdown",
   "metadata": {},
   "source": [
    "** Gender: ** Check gender distribution"
   ]
  },
  {
   "cell_type": "code",
   "execution_count": 130,
   "metadata": {},
   "outputs": [
    {
     "data": {
      "text/plain": [
       "M    136138\n",
       "F     47116\n",
       "Name: gender, dtype: int64"
      ]
     },
     "execution_count": 130,
     "metadata": {},
     "output_type": "execute_result"
    }
   ],
   "source": [
    "# gender distribution in using the Health and Wellness apps\n",
    "user_demo.gender.value_counts()"
   ]
  },
  {
   "cell_type": "code",
   "execution_count": 129,
   "metadata": {},
   "outputs": [
    {
     "name": "stderr",
     "output_type": "stream",
     "text": [
      "/Users/Jiaqi/anaconda3/lib/python3.6/site-packages/seaborn/categorical.py:1460: FutureWarning: remove_na is deprecated and is a private function. Do not use.\n",
      "  stat_data = remove_na(group_data)\n"
     ]
    },
    {
     "data": {
      "image/png": "[encoded data removed]",
      "text/plain": [
       "<matplotlib.figure.Figure at 0x1a393bb400>"
      ]
     },
     "metadata": {},
     "output_type": "display_data"
    }
   ],
   "source": [
    "# plot gender distribution\n",
    "plt.figure(1, figsize=(10,5))\n",
    "ax = sns.countplot(x='gender', palette='coolwarm',data=user_demo)"
   ]
  },
  {
   "cell_type": "markdown",
   "metadata": {},
   "source": [
    "** Gender Age Group:** Check gender and age combined group distribution"
   ]
  },
  {
   "cell_type": "code",
   "execution_count": 133,
   "metadata": {},
   "outputs": [
    {
     "data": {
      "text/plain": [
       "M39+      45399\n",
       "M32-38    36607\n",
       "M29-31    17559\n",
       "M23-26    15873\n",
       "M27-28    13344\n",
       "M22-       7356\n",
       "Name: group, dtype: int64"
      ]
     },
     "execution_count": 133,
     "metadata": {},
     "output_type": "execute_result"
    }
   ],
   "source": [
    "# male and age combined distribution\n",
    "user_demo[user_demo['gender'] =='M'].group.value_counts()"
   ]
  },
  {
   "cell_type": "code",
   "execution_count": 134,
   "metadata": {},
   "outputs": [
    {
     "name": "stderr",
     "output_type": "stream",
     "text": [
      "/Users/Jiaqi/anaconda3/lib/python3.6/site-packages/seaborn/categorical.py:1460: FutureWarning: remove_na is deprecated and is a private function. Do not use.\n",
      "  stat_data = remove_na(group_data)\n"
     ]
    },
    {
     "data": {
      "image/png": "[encoded data removed]",
      "text/plain": [
       "<matplotlib.figure.Figure at 0x1a39fece48>"
      ]
     },
     "metadata": {},
     "output_type": "display_data"
    }
   ],
   "source": [
    "plt.figure(1, figsize=(10,5))\n",
    "ax = sns.countplot(x='group', palette='coolwarm',data=user_demo[user_demo['gender'] =='M'])"
   ]
  },
  {
   "cell_type": "code",
   "execution_count": 135,
   "metadata": {},
   "outputs": [
    {
     "data": {
      "text/plain": [
       "F33-42    15621\n",
       "F43+      12148\n",
       "F29-32     7582\n",
       "F24-26     4828\n",
       "F27-28     3494\n",
       "F23-       3443\n",
       "Name: group, dtype: int64"
      ]
     },
     "execution_count": 135,
     "metadata": {},
     "output_type": "execute_result"
    }
   ],
   "source": [
    "# female and age combined distribution\n",
    "user_demo[user_demo['gender'] =='F'].group.value_counts()"
   ]
  },
  {
   "cell_type": "code",
   "execution_count": 136,
   "metadata": {},
   "outputs": [
    {
     "name": "stderr",
     "output_type": "stream",
     "text": [
      "/Users/Jiaqi/anaconda3/lib/python3.6/site-packages/seaborn/categorical.py:1460: FutureWarning: remove_na is deprecated and is a private function. Do not use.\n",
      "  stat_data = remove_na(group_data)\n"
     ]
    },
    {
     "data": {
      "image/png": "[encoded data removed]",
      "text/plain": [
       "<matplotlib.figure.Figure at 0x1a38935470>"
      ]
     },
     "metadata": {},
     "output_type": "display_data"
    }
   ],
   "source": [
    "plt.figure(1, figsize=(10,5))\n",
    "ax = sns.countplot(x='group', palette='coolwarm',data=user_demo[user_demo['gender'] =='F'])"
   ]
  },
  {
   "cell_type": "markdown",
   "metadata": {},
   "source": [
    "** 3. The client is interested in partnering with apps outside the Health and Wellness space to drive cross promotion. Where are the biggest opportunities? Please create some short bullet points to support the recommendation in both data science and business contexts.**\n",
    "\n",
    "Since we've figured out which market segments are the health and wellness app users belong to in step 2. We can use those market segments to find what other app categories those market segments population like to use. Then we can partner with those category to drive cross promotion.\n"
   ]
  },
  {
   "cell_type": "code",
   "execution_count": 192,
   "metadata": {},
   "outputs": [
    {
     "name": "stdout",
     "output_type": "stream",
     "text": [
      "\n",
      "    SELECT \n",
      "        app_category,\n",
      "        app_id,\n",
      "        timestamp,\n",
      "        longitude,\n",
      "        latitude,\n",
      "        user.*\n",
      "        \n",
      "    from app \n",
      "    inner join event on event.event_id = app.event_id\n",
      "    inner join user on event.device_id = user.device_id\n",
      "    where\n",
      "        is_active = 1 and \n",
      "        is_installed = 1;\n",
      "\n"
     ]
    }
   ],
   "source": [
    "# combine app, event, and user data together. \n",
    "sql = '''\n",
    "    SELECT \n",
    "        app_category,\n",
    "        app_id,\n",
    "        timestamp,\n",
    "        longitude,\n",
    "        latitude,\n",
    "        user.*\n",
    "        \n",
    "    from app \n",
    "    inner join event on event.event_id = app.event_id\n",
    "    inner join user on event.device_id = user.device_id\n",
    "    where\n",
    "        is_active = 1 and \n",
    "        is_installed = 1;\n",
    "'''\n",
    "\n",
    "print(sql)"
   ]
  },
  {
   "cell_type": "code",
   "execution_count": 193,
   "metadata": {
    "collapsed": true
   },
   "outputs": [],
   "source": [
    "promotion = run_query(sql)"
   ]
  },
  {
   "cell_type": "code",
   "execution_count": 194,
   "metadata": {},
   "outputs": [
    {
     "data": {
      "text/html": [
       "<div>\n",
       "<style scoped>\n",
       "    .dataframe tbody tr th:only-of-type {\n",
       "        vertical-align: middle;\n",
       "    }\n",
       "\n",
       "    .dataframe tbody tr th {\n",
       "        vertical-align: top;\n",
       "    }\n",
       "\n",
       "    .dataframe thead th {\n",
       "        text-align: right;\n",
       "    }\n",
       "</style>\n",
       "<table border=\"1\" class=\"dataframe\">\n",
       "  <thead>\n",
       "    <tr style=\"text-align: right;\">\n",
       "      <th></th>\n",
       "      <th>app_category</th>\n",
       "      <th>app_id</th>\n",
       "      <th>timestamp</th>\n",
       "      <th>longitude</th>\n",
       "      <th>latitude</th>\n",
       "      <th>device_id</th>\n",
       "      <th>gender</th>\n",
       "      <th>age</th>\n",
       "      <th>group</th>\n",
       "      <th>phone_brand</th>\n",
       "    </tr>\n",
       "  </thead>\n",
       "  <tbody>\n",
       "    <tr>\n",
       "      <th>0</th>\n",
       "      <td>Game</td>\n",
       "      <td>-7377004479023402858</td>\n",
       "      <td>2016-05-01 00:27:21</td>\n",
       "      <td>0.0</td>\n",
       "      <td>0.0</td>\n",
       "      <td>1476664663289716375</td>\n",
       "      <td>M</td>\n",
       "      <td>19</td>\n",
       "      <td>M22-</td>\n",
       "      <td>apple</td>\n",
       "    </tr>\n",
       "    <tr>\n",
       "      <th>1</th>\n",
       "      <td>Game</td>\n",
       "      <td>6284164581582112235</td>\n",
       "      <td>2016-05-01 00:27:21</td>\n",
       "      <td>0.0</td>\n",
       "      <td>0.0</td>\n",
       "      <td>1476664663289716375</td>\n",
       "      <td>M</td>\n",
       "      <td>19</td>\n",
       "      <td>M22-</td>\n",
       "      <td>apple</td>\n",
       "    </tr>\n",
       "    <tr>\n",
       "      <th>2</th>\n",
       "      <td>Game</td>\n",
       "      <td>5927333115845830913</td>\n",
       "      <td>2016-05-01 00:27:21</td>\n",
       "      <td>0.0</td>\n",
       "      <td>0.0</td>\n",
       "      <td>1476664663289716375</td>\n",
       "      <td>M</td>\n",
       "      <td>19</td>\n",
       "      <td>M22-</td>\n",
       "      <td>apple</td>\n",
       "    </tr>\n",
       "    <tr>\n",
       "      <th>3</th>\n",
       "      <td>Game</td>\n",
       "      <td>3433289601737013244</td>\n",
       "      <td>2016-05-01 00:27:21</td>\n",
       "      <td>0.0</td>\n",
       "      <td>0.0</td>\n",
       "      <td>1476664663289716375</td>\n",
       "      <td>M</td>\n",
       "      <td>19</td>\n",
       "      <td>M22-</td>\n",
       "      <td>apple</td>\n",
       "    </tr>\n",
       "    <tr>\n",
       "      <th>4</th>\n",
       "      <td>online malls</td>\n",
       "      <td>-3467200097934864127</td>\n",
       "      <td>2016-05-01 00:27:21</td>\n",
       "      <td>0.0</td>\n",
       "      <td>0.0</td>\n",
       "      <td>1476664663289716375</td>\n",
       "      <td>M</td>\n",
       "      <td>19</td>\n",
       "      <td>M22-</td>\n",
       "      <td>apple</td>\n",
       "    </tr>\n",
       "  </tbody>\n",
       "</table>\n",
       "</div>"
      ],
      "text/plain": [
       "   app_category                app_id            timestamp  longitude  \\\n",
       "0          Game  -7377004479023402858  2016-05-01 00:27:21        0.0   \n",
       "1          Game   6284164581582112235  2016-05-01 00:27:21        0.0   \n",
       "2          Game   5927333115845830913  2016-05-01 00:27:21        0.0   \n",
       "3          Game   3433289601737013244  2016-05-01 00:27:21        0.0   \n",
       "4  online malls  -3467200097934864127  2016-05-01 00:27:21        0.0   \n",
       "\n",
       "   latitude            device_id gender  age group phone_brand  \n",
       "0       0.0  1476664663289716375      M   19  M22-       apple  \n",
       "1       0.0  1476664663289716375      M   19  M22-       apple  \n",
       "2       0.0  1476664663289716375      M   19  M22-       apple  \n",
       "3       0.0  1476664663289716375      M   19  M22-       apple  \n",
       "4       0.0  1476664663289716375      M   19  M22-       apple  "
      ]
     },
     "execution_count": 194,
     "metadata": {},
     "output_type": "execute_result"
    }
   ],
   "source": [
    "# check the dataset\n",
    "promotion.head()"
   ]
  },
  {
   "cell_type": "code",
   "execution_count": 195,
   "metadata": {},
   "outputs": [
    {
     "data": {
      "text/plain": [
       "app_category    False\n",
       "app_id          False\n",
       "timestamp       False\n",
       "longitude       False\n",
       "latitude        False\n",
       "device_id       False\n",
       "gender          False\n",
       "age             False\n",
       "group           False\n",
       "phone_brand     False\n",
       "dtype: bool"
      ]
     },
     "execution_count": 195,
     "metadata": {},
     "output_type": "execute_result"
    }
   ],
   "source": [
    "# no missing data\n",
    "promotion.isnull().any()"
   ]
  },
  {
   "cell_type": "markdown",
   "metadata": {},
   "source": [
    "** a. which are the top app_category outside Health and Wellness in China? **"
   ]
  },
  {
   "cell_type": "code",
   "execution_count": 196,
   "metadata": {
    "collapsed": true
   },
   "outputs": [],
   "source": [
    "# Get the longitute and latitute range for China Region\n",
    "\n",
    "# Lat-long coorditates for cities in China are in range: \n",
    "# Latitude from 18.24306 to 52.33333 and longitude from 75.98951 to 134.28917.\n",
    "# website: http://latitudelongitude.org/cn/\n",
    "c_lon_min, c_lon_max = 75, 135\n",
    "c_lat_min, c_lat_max = 18, 53"
   ]
  },
  {
   "cell_type": "code",
   "execution_count": 197,
   "metadata": {},
   "outputs": [],
   "source": [
    "# get the china data\n",
    "china = promotion[(promotion['longitude'] <= 135) &\n",
    "(promotion['longitude'] >= 75) &\n",
    "(promotion['latitude'] <= 53) & \n",
    "(promotion['latitude'] >= 18)]"
   ]
  },
  {
   "cell_type": "code",
   "execution_count": 198,
   "metadata": {},
   "outputs": [
    {
     "name": "stderr",
     "output_type": "stream",
     "text": [
      "/Users/Jiaqi/anaconda3/lib/python3.6/site-packages/ipykernel_launcher.py:1: SettingWithCopyWarning: \n",
      "A value is trying to be set on a copy of a slice from a DataFrame.\n",
      "Try using .loc[row_indexer,col_indexer] = value instead\n",
      "\n",
      "See the caveats in the documentation: http://pandas.pydata.org/pandas-docs/stable/indexing.html#indexing-view-versus-copy\n",
      "  \"\"\"Entry point for launching an IPython kernel.\n"
     ]
    }
   ],
   "source": [
    "china['timestamp_2'] = china.timestamp.apply(lambda x: parse(x))"
   ]
  },
  {
   "cell_type": "code",
   "execution_count": 199,
   "metadata": {},
   "outputs": [
    {
     "name": "stdout",
     "output_type": "stream",
     "text": [
      "<class 'pandas.core.frame.DataFrame'>\n",
      "Int64Index: 1700995 entries, 15 to 4802705\n",
      "Data columns (total 11 columns):\n",
      "app_category    object\n",
      "app_id          object\n",
      "timestamp       object\n",
      "longitude       float64\n",
      "latitude        float64\n",
      "device_id       object\n",
      "gender          object\n",
      "age             int64\n",
      "group           object\n",
      "phone_brand     object\n",
      "timestamp_2     datetime64[ns]\n",
      "dtypes: datetime64[ns](1), float64(2), int64(1), object(7)\n",
      "memory usage: 155.7+ MB\n"
     ]
    }
   ],
   "source": [
    "china.info()"
   ]
  },
  {
   "cell_type": "code",
   "execution_count": 201,
   "metadata": {},
   "outputs": [
    {
     "name": "stderr",
     "output_type": "stream",
     "text": [
      "/Users/Jiaqi/anaconda3/lib/python3.6/site-packages/ipykernel_launcher.py:2: SettingWithCopyWarning: \n",
      "A value is trying to be set on a copy of a slice from a DataFrame.\n",
      "Try using .loc[row_indexer,col_indexer] = value instead\n",
      "\n",
      "See the caveats in the documentation: http://pandas.pydata.org/pandas-docs/stable/indexing.html#indexing-view-versus-copy\n",
      "  \n",
      "/Users/Jiaqi/anaconda3/lib/python3.6/site-packages/ipykernel_launcher.py:3: SettingWithCopyWarning: \n",
      "A value is trying to be set on a copy of a slice from a DataFrame.\n",
      "Try using .loc[row_indexer,col_indexer] = value instead\n",
      "\n",
      "See the caveats in the documentation: http://pandas.pydata.org/pandas-docs/stable/indexing.html#indexing-view-versus-copy\n",
      "  This is separate from the ipykernel package so we can avoid doing imports until\n"
     ]
    }
   ],
   "source": [
    "# create weekday and hour category\n",
    "china['weekday'] = china.timestamp_2.apply(lambda x: calendar.day_name[x.weekday()])\n",
    "china['hour'] = china.timestamp_2.apply(lambda x: x.hour)"
   ]
  },
  {
   "cell_type": "code",
   "execution_count": 202,
   "metadata": {},
   "outputs": [
    {
     "data": {
      "text/plain": [
       "app_category    False\n",
       "app_id          False\n",
       "timestamp       False\n",
       "longitude       False\n",
       "latitude        False\n",
       "device_id       False\n",
       "gender          False\n",
       "age             False\n",
       "group           False\n",
       "phone_brand     False\n",
       "timestamp_2     False\n",
       "weekday         False\n",
       "hour            False\n",
       "dtype: bool"
      ]
     },
     "execution_count": 202,
     "metadata": {},
     "output_type": "execute_result"
    }
   ],
   "source": [
    "china.isnull().any()"
   ]
  },
  {
   "cell_type": "code",
   "execution_count": 203,
   "metadata": {},
   "outputs": [
    {
     "data": {
      "text/html": [
       "<div>\n",
       "<style scoped>\n",
       "    .dataframe tbody tr th:only-of-type {\n",
       "        vertical-align: middle;\n",
       "    }\n",
       "\n",
       "    .dataframe tbody tr th {\n",
       "        vertical-align: top;\n",
       "    }\n",
       "\n",
       "    .dataframe thead th {\n",
       "        text-align: right;\n",
       "    }\n",
       "</style>\n",
       "<table border=\"1\" class=\"dataframe\">\n",
       "  <thead>\n",
       "    <tr style=\"text-align: right;\">\n",
       "      <th></th>\n",
       "      <th>app_category</th>\n",
       "      <th>app_id</th>\n",
       "      <th>timestamp</th>\n",
       "      <th>longitude</th>\n",
       "      <th>latitude</th>\n",
       "      <th>device_id</th>\n",
       "      <th>gender</th>\n",
       "      <th>age</th>\n",
       "      <th>group</th>\n",
       "      <th>phone_brand</th>\n",
       "      <th>timestamp_2</th>\n",
       "      <th>weekday</th>\n",
       "      <th>hour</th>\n",
       "    </tr>\n",
       "  </thead>\n",
       "  <tbody>\n",
       "    <tr>\n",
       "      <th>15</th>\n",
       "      <td>Game</td>\n",
       "      <td>6284164581582112235</td>\n",
       "      <td>2016-05-01 00:31:40</td>\n",
       "      <td>117.96</td>\n",
       "      <td>28.47</td>\n",
       "      <td>7166563712658305181</td>\n",
       "      <td>M</td>\n",
       "      <td>60</td>\n",
       "      <td>M39+</td>\n",
       "      <td>apple</td>\n",
       "      <td>2016-05-01 00:31:40</td>\n",
       "      <td>Sunday</td>\n",
       "      <td>0</td>\n",
       "    </tr>\n",
       "    <tr>\n",
       "      <th>16</th>\n",
       "      <td>Game</td>\n",
       "      <td>3433289601737013244</td>\n",
       "      <td>2016-05-01 00:31:40</td>\n",
       "      <td>117.96</td>\n",
       "      <td>28.47</td>\n",
       "      <td>7166563712658305181</td>\n",
       "      <td>M</td>\n",
       "      <td>60</td>\n",
       "      <td>M39+</td>\n",
       "      <td>apple</td>\n",
       "      <td>2016-05-01 00:31:40</td>\n",
       "      <td>Sunday</td>\n",
       "      <td>0</td>\n",
       "    </tr>\n",
       "    <tr>\n",
       "      <th>17</th>\n",
       "      <td>Game</td>\n",
       "      <td>8693964245073640147</td>\n",
       "      <td>2016-05-01 00:31:40</td>\n",
       "      <td>117.96</td>\n",
       "      <td>28.47</td>\n",
       "      <td>7166563712658305181</td>\n",
       "      <td>M</td>\n",
       "      <td>60</td>\n",
       "      <td>M39+</td>\n",
       "      <td>apple</td>\n",
       "      <td>2016-05-01 00:31:40</td>\n",
       "      <td>Sunday</td>\n",
       "      <td>0</td>\n",
       "    </tr>\n",
       "    <tr>\n",
       "      <th>18</th>\n",
       "      <td>Health and Wellness</td>\n",
       "      <td>-9129109839652417461</td>\n",
       "      <td>2016-05-01 00:31:40</td>\n",
       "      <td>117.96</td>\n",
       "      <td>28.47</td>\n",
       "      <td>7166563712658305181</td>\n",
       "      <td>M</td>\n",
       "      <td>60</td>\n",
       "      <td>M39+</td>\n",
       "      <td>apple</td>\n",
       "      <td>2016-05-01 00:31:40</td>\n",
       "      <td>Sunday</td>\n",
       "      <td>0</td>\n",
       "    </tr>\n",
       "    <tr>\n",
       "      <th>19</th>\n",
       "      <td>Game</td>\n",
       "      <td>5099453940784075687</td>\n",
       "      <td>2016-05-01 00:31:40</td>\n",
       "      <td>117.96</td>\n",
       "      <td>28.47</td>\n",
       "      <td>7166563712658305181</td>\n",
       "      <td>M</td>\n",
       "      <td>60</td>\n",
       "      <td>M39+</td>\n",
       "      <td>apple</td>\n",
       "      <td>2016-05-01 00:31:40</td>\n",
       "      <td>Sunday</td>\n",
       "      <td>0</td>\n",
       "    </tr>\n",
       "  </tbody>\n",
       "</table>\n",
       "</div>"
      ],
      "text/plain": [
       "           app_category                app_id            timestamp  longitude  \\\n",
       "15                 Game   6284164581582112235  2016-05-01 00:31:40     117.96   \n",
       "16                 Game   3433289601737013244  2016-05-01 00:31:40     117.96   \n",
       "17                 Game   8693964245073640147  2016-05-01 00:31:40     117.96   \n",
       "18  Health and Wellness  -9129109839652417461  2016-05-01 00:31:40     117.96   \n",
       "19                 Game   5099453940784075687  2016-05-01 00:31:40     117.96   \n",
       "\n",
       "    latitude            device_id gender  age group phone_brand  \\\n",
       "15     28.47  7166563712658305181      M   60  M39+       apple   \n",
       "16     28.47  7166563712658305181      M   60  M39+       apple   \n",
       "17     28.47  7166563712658305181      M   60  M39+       apple   \n",
       "18     28.47  7166563712658305181      M   60  M39+       apple   \n",
       "19     28.47  7166563712658305181      M   60  M39+       apple   \n",
       "\n",
       "           timestamp_2 weekday  hour  \n",
       "15 2016-05-01 00:31:40  Sunday     0  \n",
       "16 2016-05-01 00:31:40  Sunday     0  \n",
       "17 2016-05-01 00:31:40  Sunday     0  \n",
       "18 2016-05-01 00:31:40  Sunday     0  \n",
       "19 2016-05-01 00:31:40  Sunday     0  "
      ]
     },
     "execution_count": 203,
     "metadata": {},
     "output_type": "execute_result"
    }
   ],
   "source": [
    "china.head()"
   ]
  },
  {
   "cell_type": "code",
   "execution_count": 204,
   "metadata": {
    "scrolled": true
   },
   "outputs": [
    {
     "data": {
      "text/plain": [
       "Game                   1343873\n",
       "Food and Lifestyle      105334\n",
       "Health and Wellness      61098\n",
       "weibo                    26748\n",
       "video                    18090\n",
       "Name: app_category, dtype: int64"
      ]
     },
     "execution_count": 204,
     "metadata": {},
     "output_type": "execute_result"
    }
   ],
   "source": [
    "china.app_category.value_counts().head(5)"
   ]
  },
  {
   "cell_type": "code",
   "execution_count": 205,
   "metadata": {
    "scrolled": true
   },
   "outputs": [
    {
     "data": {
      "text/plain": [
       "<matplotlib.axes._subplots.AxesSubplot at 0x1bd94acbe0>"
      ]
     },
     "execution_count": 205,
     "metadata": {},
     "output_type": "execute_result"
    },
    {
     "data": {
      "image/png": "[encoded data removed]",
      "text/plain": [
       "<matplotlib.figure.Figure at 0x1bd94aca90>"
      ]
     },
     "metadata": {},
     "output_type": "display_data"
    }
   ],
   "source": [
    "plt.figure(1, figsize=(10,5))\n",
    "china.app_category.value_counts().head(5).plot(kind='barh')"
   ]
  },
  {
   "cell_type": "code",
   "execution_count": 206,
   "metadata": {
    "collapsed": true
   },
   "outputs": [],
   "source": [
    "# filer down to Game category \n",
    "game = china[china['app_category'] == 'Game']"
   ]
  },
  {
   "cell_type": "code",
   "execution_count": 208,
   "metadata": {},
   "outputs": [],
   "source": [
    "# weekday games\n",
    "game_wday = game[(game['weekday'] == 'Monday')|\n",
    "            (game['weekday'] == 'Tuesday')|\n",
    "            (game['weekday'] == 'Wednesday')|\n",
    "            (game['weekday'] == 'Thursday')|\n",
    "            (game['weekday'] == 'Friday')]"
   ]
  },
  {
   "cell_type": "code",
   "execution_count": 210,
   "metadata": {},
   "outputs": [
    {
     "data": {
      "text/html": [
       "<div>\n",
       "<style scoped>\n",
       "    .dataframe tbody tr th:only-of-type {\n",
       "        vertical-align: middle;\n",
       "    }\n",
       "\n",
       "    .dataframe tbody tr th {\n",
       "        vertical-align: top;\n",
       "    }\n",
       "\n",
       "    .dataframe thead th {\n",
       "        text-align: right;\n",
       "    }\n",
       "</style>\n",
       "<table border=\"1\" class=\"dataframe\">\n",
       "  <thead>\n",
       "    <tr style=\"text-align: right;\">\n",
       "      <th></th>\n",
       "      <th>app_category</th>\n",
       "      <th>app_id</th>\n",
       "      <th>timestamp</th>\n",
       "      <th>longitude</th>\n",
       "      <th>latitude</th>\n",
       "      <th>device_id</th>\n",
       "      <th>gender</th>\n",
       "      <th>age</th>\n",
       "      <th>group</th>\n",
       "      <th>phone_brand</th>\n",
       "      <th>timestamp_2</th>\n",
       "      <th>weekday</th>\n",
       "      <th>hour</th>\n",
       "    </tr>\n",
       "  </thead>\n",
       "  <tbody>\n",
       "    <tr>\n",
       "      <th>185</th>\n",
       "      <td>Game</td>\n",
       "      <td>-5696330257194422214</td>\n",
       "      <td>2016-05-02 00:11:29</td>\n",
       "      <td>113.76</td>\n",
       "      <td>23.04</td>\n",
       "      <td>3107259735454171724</td>\n",
       "      <td>M</td>\n",
       "      <td>24</td>\n",
       "      <td>M23-26</td>\n",
       "      <td>samsung</td>\n",
       "      <td>2016-05-02 00:11:29</td>\n",
       "      <td>Monday</td>\n",
       "      <td>0</td>\n",
       "    </tr>\n",
       "    <tr>\n",
       "      <th>186</th>\n",
       "      <td>Game</td>\n",
       "      <td>5927333115845830913</td>\n",
       "      <td>2016-05-02 00:11:29</td>\n",
       "      <td>113.76</td>\n",
       "      <td>23.04</td>\n",
       "      <td>3107259735454171724</td>\n",
       "      <td>M</td>\n",
       "      <td>24</td>\n",
       "      <td>M23-26</td>\n",
       "      <td>samsung</td>\n",
       "      <td>2016-05-02 00:11:29</td>\n",
       "      <td>Monday</td>\n",
       "      <td>0</td>\n",
       "    </tr>\n",
       "    <tr>\n",
       "      <th>187</th>\n",
       "      <td>Game</td>\n",
       "      <td>8693964245073640147</td>\n",
       "      <td>2016-05-02 00:11:29</td>\n",
       "      <td>113.76</td>\n",
       "      <td>23.04</td>\n",
       "      <td>3107259735454171724</td>\n",
       "      <td>M</td>\n",
       "      <td>24</td>\n",
       "      <td>M23-26</td>\n",
       "      <td>samsung</td>\n",
       "      <td>2016-05-02 00:11:29</td>\n",
       "      <td>Monday</td>\n",
       "      <td>0</td>\n",
       "    </tr>\n",
       "    <tr>\n",
       "      <th>188</th>\n",
       "      <td>Game</td>\n",
       "      <td>6666573792468194779</td>\n",
       "      <td>2016-05-02 00:11:29</td>\n",
       "      <td>113.76</td>\n",
       "      <td>23.04</td>\n",
       "      <td>3107259735454171724</td>\n",
       "      <td>M</td>\n",
       "      <td>24</td>\n",
       "      <td>M23-26</td>\n",
       "      <td>samsung</td>\n",
       "      <td>2016-05-02 00:11:29</td>\n",
       "      <td>Monday</td>\n",
       "      <td>0</td>\n",
       "    </tr>\n",
       "    <tr>\n",
       "      <th>189</th>\n",
       "      <td>Game</td>\n",
       "      <td>-8504475857937456387</td>\n",
       "      <td>2016-05-02 00:11:29</td>\n",
       "      <td>113.76</td>\n",
       "      <td>23.04</td>\n",
       "      <td>3107259735454171724</td>\n",
       "      <td>M</td>\n",
       "      <td>24</td>\n",
       "      <td>M23-26</td>\n",
       "      <td>samsung</td>\n",
       "      <td>2016-05-02 00:11:29</td>\n",
       "      <td>Monday</td>\n",
       "      <td>0</td>\n",
       "    </tr>\n",
       "  </tbody>\n",
       "</table>\n",
       "</div>"
      ],
      "text/plain": [
       "    app_category                app_id            timestamp  longitude  \\\n",
       "185         Game  -5696330257194422214  2016-05-02 00:11:29     113.76   \n",
       "186         Game   5927333115845830913  2016-05-02 00:11:29     113.76   \n",
       "187         Game   8693964245073640147  2016-05-02 00:11:29     113.76   \n",
       "188         Game   6666573792468194779  2016-05-02 00:11:29     113.76   \n",
       "189         Game  -8504475857937456387  2016-05-02 00:11:29     113.76   \n",
       "\n",
       "     latitude            device_id gender  age   group phone_brand  \\\n",
       "185     23.04  3107259735454171724      M   24  M23-26     samsung   \n",
       "186     23.04  3107259735454171724      M   24  M23-26     samsung   \n",
       "187     23.04  3107259735454171724      M   24  M23-26     samsung   \n",
       "188     23.04  3107259735454171724      M   24  M23-26     samsung   \n",
       "189     23.04  3107259735454171724      M   24  M23-26     samsung   \n",
       "\n",
       "            timestamp_2 weekday  hour  \n",
       "185 2016-05-02 00:11:29  Monday     0  \n",
       "186 2016-05-02 00:11:29  Monday     0  \n",
       "187 2016-05-02 00:11:29  Monday     0  \n",
       "188 2016-05-02 00:11:29  Monday     0  \n",
       "189 2016-05-02 00:11:29  Monday     0  "
      ]
     },
     "execution_count": 210,
     "metadata": {},
     "output_type": "execute_result"
    }
   ],
   "source": [
    "game_wday.head()"
   ]
  },
  {
   "cell_type": "code",
   "execution_count": 212,
   "metadata": {},
   "outputs": [],
   "source": [
    "# china, game app, weekday data, apple, samsung brand \n",
    "df = game_wday[(game_wday['phone_brand'] == 'apple') | (game_wday['phone_brand'] == 'samsung')]"
   ]
  },
  {
   "cell_type": "code",
   "execution_count": 222,
   "metadata": {},
   "outputs": [
    {
     "data": {
      "text/plain": [
       "936388"
      ]
     },
     "execution_count": 222,
     "metadata": {},
     "output_type": "execute_result"
    }
   ],
   "source": [
    "len(df)"
   ]
  },
  {
   "cell_type": "code",
   "execution_count": 216,
   "metadata": {},
   "outputs": [],
   "source": [
    "# hour from 9-12am, 8-9pm\n",
    "df2 = df[((df['hour'] >= 9) & (df['hour'] <= 12)) | ((df['hour'] >= 20) & (df['hour'] <= 21))]"
   ]
  },
  {
   "cell_type": "code",
   "execution_count": 224,
   "metadata": {},
   "outputs": [
    {
     "data": {
      "text/plain": [
       "298537"
      ]
     },
     "execution_count": 224,
     "metadata": {},
     "output_type": "execute_result"
    }
   ],
   "source": [
    "len(df2)"
   ]
  },
  {
   "cell_type": "code",
   "execution_count": 218,
   "metadata": {},
   "outputs": [],
   "source": [
    "# age from 25 to 40\n",
    "df3 = df2[(df2['age'] >=25 ) & (df2['age'] <=40)]"
   ]
  },
  {
   "cell_type": "code",
   "execution_count": 227,
   "metadata": {},
   "outputs": [
    {
     "data": {
      "text/plain": [
       "8693964245073640147     18695\n",
       "5927333115845830913     12286\n",
       "3433289601737013244     10890\n",
       "4348659952760821294      8914\n",
       "-5368809411346728624     7710\n",
       "6284164581582112235      7672\n",
       "628020936226491308       7345\n",
       "8948670408023620661      7111\n",
       "7348340405200054701      5778\n",
       "7167114343576723123      4353\n",
       "Name: app_id, dtype: int64"
      ]
     },
     "execution_count": 227,
     "metadata": {},
     "output_type": "execute_result"
    }
   ],
   "source": [
    "df3.app_id.value_counts().head(10)"
   ]
  },
  {
   "cell_type": "code",
   "execution_count": 228,
   "metadata": {},
   "outputs": [
    {
     "data": {
      "text/plain": [
       "<matplotlib.axes._subplots.AxesSubplot at 0x1a39d75e10>"
      ]
     },
     "execution_count": 228,
     "metadata": {},
     "output_type": "execute_result"
    },
    {
     "data": {
      "image/png": "[encoded data removed]",
      "text/plain": [
       "<matplotlib.figure.Figure at 0x1a3d0a4fd0>"
      ]
     },
     "metadata": {},
     "output_type": "display_data"
    }
   ],
   "source": [
    "plt.figure(1, figsize=(10,5))\n",
    "df3.app_id.value_counts().head(10).plot(kind='barh')"
   ]
  },
  {
   "cell_type": "code",
   "execution_count": 230,
   "metadata": {
    "collapsed": true
   },
   "outputs": [],
   "source": [
    "# weekend games\n",
    "game_wkend = game[(game['weekday'] == 'Saturday')|\n",
    "            (game['weekday'] == 'Sunday')]"
   ]
  },
  {
   "cell_type": "code",
   "execution_count": 232,
   "metadata": {},
   "outputs": [],
   "source": [
    "# china, game app, weekends data, apple, samsung brand \n",
    "df = game_wkend[(game_wkend['phone_brand'] == 'apple') | (game_wkend['phone_brand'] == 'samsung')]"
   ]
  },
  {
   "cell_type": "code",
   "execution_count": 233,
   "metadata": {
    "collapsed": true
   },
   "outputs": [],
   "source": [
    "# younger age: 25 - 40\n",
    "df2 = df[((df['age'] >= 25) & (df['age'] <= 40))]"
   ]
  },
  {
   "cell_type": "code",
   "execution_count": 234,
   "metadata": {
    "collapsed": true
   },
   "outputs": [],
   "source": [
    "# male prefer\n",
    "df3 = df2[df2['gender'] =='M']"
   ]
  },
  {
   "cell_type": "code",
   "execution_count": 236,
   "metadata": {
    "scrolled": false
   },
   "outputs": [
    {
     "data": {
      "text/plain": [
       "8693964245073640147     15323\n",
       "5927333115845830913     10044\n",
       "3433289601737013244      9052\n",
       "4348659952760821294      7548\n",
       "-5368809411346728624     6189\n",
       "6284164581582112235      6045\n",
       "8948670408023620661      5943\n",
       "628020936226491308       5827\n",
       "7348340405200054701      4410\n",
       "7167114343576723123      3231\n",
       "Name: app_id, dtype: int64"
      ]
     },
     "execution_count": 236,
     "metadata": {},
     "output_type": "execute_result"
    }
   ],
   "source": [
    "df3.app_id.value_counts().head(10)"
   ]
  },
  {
   "cell_type": "code",
   "execution_count": 237,
   "metadata": {},
   "outputs": [
    {
     "data": {
      "text/plain": [
       "<matplotlib.axes._subplots.AxesSubplot at 0x1a376fea20>"
      ]
     },
     "execution_count": 237,
     "metadata": {},
     "output_type": "execute_result"
    },
    {
     "data": {
      "image/png": "[encoded data removed]",
      "text/plain": [
       "<matplotlib.figure.Figure at 0x1a392b5908>"
      ]
     },
     "metadata": {},
     "output_type": "display_data"
    }
   ],
   "source": [
    "plt.figure(1, figsize=(10,5))\n",
    "df3.app_id.value_counts().head(10).plot(kind='barh')"
   ]
  },
  {
   "cell_type": "code",
   "execution_count": 243,
   "metadata": {},
   "outputs": [],
   "source": [
    "# filer down to Game category \n",
    "life = china[china['app_category'] == 'Food and Lifestyle']\n",
    "# weekend games\n",
    "life_wday = life[(life['weekday'] == 'Monday')|\n",
    "            (life['weekday'] == 'Tuesday')|\n",
    "            (life['weekday'] == 'Wednesday')|\n",
    "            (life['weekday'] == 'Thursday')|\n",
    "            (life['weekday'] == 'Friday')]\n",
    "# china, game app, weekends data, apple, samsung brand \n",
    "df = life_wday[(life_wday['phone_brand'] == 'apple') | (life_wday['phone_brand'] == 'samsung')]\n",
    "df2 = df[((df['hour'] >= 9) & (df['hour'] <= 12)) | ((df['hour'] >= 20) & (df['hour'] <= 21))]\n",
    "# younger age: 25 - 40\n",
    "df2 = df2[((df2['age'] >= 25) & (df2['age'] <= 40))]"
   ]
  },
  {
   "cell_type": "code",
   "execution_count": 245,
   "metadata": {},
   "outputs": [
    {
     "data": {
      "text/plain": [
       "8693964245073640147     15323\n",
       "5927333115845830913     10044\n",
       "3433289601737013244      9052\n",
       "4348659952760821294      7548\n",
       "-5368809411346728624     6189\n",
       "6284164581582112235      6045\n",
       "8948670408023620661      5943\n",
       "628020936226491308       5827\n",
       "7348340405200054701      4410\n",
       "7167114343576723123      3231\n",
       "Name: app_id, dtype: int64"
      ]
     },
     "execution_count": 245,
     "metadata": {},
     "output_type": "execute_result"
    }
   ],
   "source": [
    "df3.app_id.value_counts().head(10)"
   ]
  },
  {
   "cell_type": "code",
   "execution_count": null,
   "metadata": {
    "collapsed": true
   },
   "outputs": [],
   "source": []
  },
  {
   "cell_type": "code",
   "execution_count": null,
   "metadata": {
    "collapsed": true
   },
   "outputs": [],
   "source": []
  },
  {
   "cell_type": "code",
   "execution_count": null,
   "metadata": {
    "collapsed": true
   },
   "outputs": [],
   "source": []
  }
 ],
 "metadata": {
  "kernelspec": {
   "display_name": "Python [default]",
   "language": "python",
   "name": "python3"
  },
  "language_info": {
   "codemirror_mode": {
    "name": "ipython",
    "version": 3
   },
   "file_extension": ".py",
   "mimetype": "text/x-python",
   "name": "python",
   "nbconvert_exporter": "python",
   "pygments_lexer": "ipython3",
   "version": "3.6.5"
  }
 },
 "nbformat": 4,
 "nbformat_minor": 2
}
